{
 "cells": [
  {
   "cell_type": "code",
   "execution_count": 1,
   "metadata": {},
   "outputs": [],
   "source": [
    "import csv"
   ]
  },
  {
   "cell_type": "code",
   "execution_count": 107,
   "metadata": {},
   "outputs": [
    {
     "name": "stdout",
     "output_type": "stream",
     "text": [
      "['Highlight;Title;Author;URL;Note;Location;Date']\n",
      "['To be happy I think you have to be doing something you not only enjoy;;;;;12;01.04.2020 13:45']\n",
      "['Call me Ishmael;Moby Dick;Herman Melville;;;;']\n"
     ]
    }
   ],
   "source": [
    "\n",
    "import csv\n",
    " \n",
    "# opening the CSV file\n",
    "with open('readwise\\sample_1.8.csv', mode ='r')as file:\n",
    "   \n",
    "  # reading the CSV file\n",
    "  csvFile = csv.reader(file)\n",
    " \n",
    "  # displaying the contents of the CSV file\n",
    "  for lines in csvFile:\n",
    "        print(lines)"
   ]
  },
  {
   "cell_type": "code",
   "execution_count": 151,
   "metadata": {},
   "outputs": [],
   "source": [
    "row = {'Highlight': '',\n",
    "        'Title': '',\n",
    "        'Author':'',\n",
    "        'URL':'',\n",
    "        'Note':'',\n",
    "        'Location':'',\n",
    "        'Date':''}"
   ]
  },
  {
   "cell_type": "code",
   "execution_count": 210,
   "metadata": {},
   "outputs": [],
   "source": [
    "notes_path = \"readwise\\\\nierozpraszalni-nir-eyal.txt\"\n",
    "notes_path = \"readwise\\How-to-sell-anything.txt\"\n",
    "\n",
    "import io\n",
    "with io.open(notes_path,'r',encoding='utf8') as f:\n",
    "    text = f.read()\n",
    "    "
   ]
  },
  {
   "cell_type": "code",
   "execution_count": 211,
   "metadata": {},
   "outputs": [
    {
     "data": {
      "text/plain": [
       "str"
      ]
     },
     "execution_count": 211,
     "metadata": {},
     "output_type": "execute_result"
    }
   ],
   "source": [
    "type(text)"
   ]
  },
  {
   "cell_type": "code",
   "execution_count": 212,
   "metadata": {},
   "outputs": [],
   "source": [
    "data_splited = text.split('-------------------')"
   ]
  },
  {
   "cell_type": "code",
   "execution_count": null,
   "metadata": {},
   "outputs": [],
   "source": [
    "Reading Notes | <<How to Sell Anything to Anybody>>Joe Girard Stanley H. Brown\n",
    "12 Knowing What You’re Doing—and Why"
   ]
  },
  {
   "cell_type": "code",
   "execution_count": 213,
   "metadata": {},
   "outputs": [],
   "source": [
    "author = 'Joe Girard'\n",
    "title = 'How to sell anything to anybody'"
   ]
  },
  {
   "cell_type": "code",
   "execution_count": 214,
   "metadata": {},
   "outputs": [],
   "source": [
    "for item in data_splited[1:-1]:\n",
    "    row = {'Highlight': '',\n",
    "        'Title': '',\n",
    "        'Author':'',\n",
    "        'URL':'',\n",
    "        'Note':'',\n",
    "        'Location':'',\n",
    "        'Date':''}\n",
    "    date, text = get_date(item)\n",
    "    row['Date'] = date\n",
    "    location, text = get_location(text)\n",
    "    row['Location'] = location\n",
    "    highlight, note, text = get_highlight_and_note_new(text)\n",
    "    row['Highlight'],row['Note']=highlight, note\n",
    "    row['Author'] = author\n",
    "    row['Title'] = title\n",
    "\n",
    "    filename = f\"readwise\\data_{title.replace(' ','_')}.csv\"\n",
    "\n",
    "    # Open the CSV file in write mode\n",
    "    with open(filename, 'a', newline='', encoding='utf-8') as file:\n",
    "\n",
    "        # Create a writer object\n",
    "        writer = csv.DictWriter(file, fieldnames=row.keys(), delimiter = ';')\n",
    "\n",
    "        # Write the header row\n",
    "        # writer.writeheader()\n",
    "\n",
    "        # Write the data row\n",
    "        writer.writerow(row)\n",
    "\n",
    "        # print(row)\n",
    "    \n",
    "\n"
   ]
  },
  {
   "cell_type": "code",
   "execution_count": 198,
   "metadata": {},
   "outputs": [
    {
     "data": {
      "text/plain": [
       "'\\n2023-02-02 00:25\\xa0\\xa0|\\xa0\\xa0Page No.: 35\\nZarządzanie czasem to zarządzanie bólem. Dekoncentracja oznacza marnowanie czasu i jak każde działanie jest powodowana chęcią uniknięcia dyskomfortu.\\nEwolucja przedkładała niezadowolenie nad satysfakcję. Ludzkie skłonności do nudy, negatywnego nastawienia, ruminacji i adaptacji hedonicznej sprawiają, że satysfakcja nigdy nie trwa długo.\\nNiezadowolenie przyczynia się do postępu naszego gatunku, lecz także\\xa0do jego błędów. To wewnętrzna siła, którą możemy wykorzystać do poprawienia swojej sytuacji.\\nJeśli chcesz zapanować nad dekoncentracją, musisz nauczyć się radzić sobie z dyskomfortem\\n【Note】zapamietaj 4\\n'"
      ]
     },
     "execution_count": 198,
     "metadata": {},
     "output_type": "execute_result"
    }
   ],
   "source": [
    "text = data_splited[26]\n",
    "data_splited[26]"
   ]
  },
  {
   "cell_type": "code",
   "execution_count": null,
   "metadata": {},
   "outputs": [],
   "source": []
  },
  {
   "cell_type": "code",
   "execution_count": 180,
   "metadata": {},
   "outputs": [
    {
     "data": {
      "text/plain": [
       "'Znajdź pierwotną przyczynę dekoncentracji. Rozpraszanie się nie jest tylko kwestią elektronicznych gadżetów. Oddziel bezpośrednie przyczyny od prawdziwej siły sprawczej.\\nWszelka motywacja wynika z chęci ucieczki przed dyskomfortem. Jeśli\\xa0jakieś zachowanie wcześniej skutecznie przyniosło Ci ulgę, istnieje większe prawdopodobieństwo, że w ramach eskapizmu będziesz do niego wracać.\\nWszystkie sposoby unikania dyskomfortu są potencjalnie uzależniające, lecz to nie znaczy, że nie da się im oprzeć. Jeśli znasz czynniki, które skłaniają Cię do określonych zachowań, możesz podjąć działania pozwalające nad nimi zapanować.\\n【Note】zapamietaj 3\\n'"
      ]
     },
     "execution_count": 180,
     "metadata": {},
     "output_type": "execute_result"
    }
   ],
   "source": [
    "start_page = text.find('Page No.')\n",
    "start = text[22:].find('\\n')\n",
    "start_note = text.find('[Note]')\n",
    "highlight_dirty = text[start_page:][start+1:]\n",
    "highlight_dirty"
   ]
  },
  {
   "cell_type": "code",
   "execution_count": 142,
   "metadata": {},
   "outputs": [
    {
     "data": {
      "text/plain": [
       "'Znajdź pierwotną przyczynę dekoncentracji. Rozpraszanie się nie jest tylko kwestią elektronicznych gadżetów. Oddziel bezpośrednie przyczyny od prawdziwej siły sprawczej.\\nWszelka motywacja wynika z chęci ucieczki przed dyskomfortem. Jeśli\\xa0jakieś zachowanie wcześniej skutecznie przyniosło Ci ulgę, istnieje większe prawdopodobieństwo, że w ramach eskapizmu będziesz do niego wracać.\\nWszystkie sposoby unikania dyskomfortu są potencjalnie uzależniające, lecz to nie znaczy, że nie da się im oprzeć. Jeśli znasz czynniki, które skłaniają Cię do określonych zachowań, możesz podjąć działania pozwalające nad nimi zapanować.'"
      ]
     },
     "execution_count": 142,
     "metadata": {},
     "output_type": "execute_result"
    }
   ],
   "source": [
    "start_Note = highlight_dirty.find('【Note】')\n",
    "highlight_dirty[:start_Note-1]"
   ]
  },
  {
   "cell_type": "code",
   "execution_count": 200,
   "metadata": {},
   "outputs": [
    {
     "data": {
      "text/plain": [
       "('2023.02.02 00:25',\n",
       " '\\n\\xa0\\xa0|\\xa0\\xa0Page No.: 35\\nZarządzanie czasem to zarządzanie bólem. Dekoncentracja oznacza marnowanie czasu i jak każde działanie jest powodowana chęcią uniknięcia dyskomfortu.\\nEwolucja przedkładała niezadowolenie nad satysfakcję. Ludzkie skłonności do nudy, negatywnego nastawienia, ruminacji i adaptacji hedonicznej sprawiają, że satysfakcja nigdy nie trwa długo.\\nNiezadowolenie przyczynia się do postępu naszego gatunku, lecz także\\xa0do jego błędów. To wewnętrzna siła, którą możemy wykorzystać do poprawienia swojej sytuacji.\\nJeśli chcesz zapanować nad dekoncentracją, musisz nauczyć się radzić sobie z dyskomfortem\\n【Note】zapamietaj 4\\n')"
      ]
     },
     "execution_count": 200,
     "metadata": {},
     "output_type": "execute_result"
    }
   ],
   "source": [
    "import re\n",
    "def get_date(text):\n",
    "    regex = r\"\\d{4}-\\d{2}-\\d{2} \\d{2}:\\d{2}\"\n",
    "    match = re.search(regex, text)\n",
    "    indexes = match.span()\n",
    "    date_text = text[indexes[0]:indexes[1]]\n",
    "    text = text.replace(date_text,'')\n",
    "    return match[0].replace('-','.'), text\n",
    "date, text2 = get_date(text)\n",
    "date, text2"
   ]
  },
  {
   "cell_type": "code",
   "execution_count": 84,
   "metadata": {},
   "outputs": [
    {
     "name": "stdout",
     "output_type": "stream",
     "text": [
      "2023.02.01 23:28\n"
     ]
    }
   ],
   "source": [
    "row['Date']=get_date(text)"
   ]
  },
  {
   "cell_type": "code",
   "execution_count": 48,
   "metadata": {},
   "outputs": [
    {
     "data": {
      "text/plain": [
       "'2023.02.01 23:33'"
      ]
     },
     "execution_count": 48,
     "metadata": {},
     "output_type": "execute_result"
    }
   ],
   "source": [
    "row['Date']"
   ]
  },
  {
   "cell_type": "code",
   "execution_count": 201,
   "metadata": {},
   "outputs": [
    {
     "data": {
      "text/plain": [
       "('35',\n",
       " '\\n\\nZarządzanie czasem to zarządzanie bólem. Dekoncentracja oznacza marnowanie czasu i jak każde działanie jest powodowana chęcią uniknięcia dyskomfortu.\\nEwolucja przedkładała niezadowolenie nad satysfakcję. Ludzkie skłonności do nudy, negatywnego nastawienia, ruminacji i adaptacji hedonicznej sprawiają, że satysfakcja nigdy nie trwa długo.\\nNiezadowolenie przyczynia się do postępu naszego gatunku, lecz także\\xa0do jego błędów. To wewnętrzna siła, którą możemy wykorzystać do poprawienia swojej sytuacji.\\nJeśli chcesz zapanować nad dekoncentracją, musisz nauczyć się radzić sobie z dyskomfortem\\n【Note】zapamietaj 4\\n')"
      ]
     },
     "execution_count": 201,
     "metadata": {},
     "output_type": "execute_result"
    }
   ],
   "source": [
    "def get_location(text):\n",
    "    regex = r\"Page No\\.:\\s*(\\d+)\"\n",
    "    match = re.search(regex, text)\n",
    "    page_number = match.group(1)\n",
    "    page_text = text[match.start():match.end()]\n",
    "    text = text.replace(page_text,'')\n",
    "    # print(text)\n",
    "    # print(page_number)\n",
    "    # row['Location']=page_number\n",
    "    text = text.replace('\\xa0\\xa0|\\xa0\\xa0','')\n",
    "    return page_number, text\n",
    "location, text3 = get_location(text2)\n",
    "location, text3"
   ]
  },
  {
   "cell_type": "code",
   "execution_count": 191,
   "metadata": {},
   "outputs": [
    {
     "data": {
      "text/plain": [
       "'\\n\\nZnajdź pierwotną przyczynę dekoncentracji. Rozpraszanie się nie jest tylko kwestią elektronicznych gadżetów. Oddziel bezpośrednie przyczyny od prawdziwej siły sprawczej.\\nWszelka motywacja wynika z chęci ucieczki przed dyskomfortem. Jeśli\\xa0jakieś zachowanie wcześniej skutecznie przyniosło Ci ulgę, istnieje większe prawdopodobieństwo, że w ramach eskapizmu będziesz do niego wracać.\\nWszystkie sposoby unikania dyskomfortu są potencjalnie uzależniające, lecz to nie znaczy, że nie da się im oprzeć. Jeśli znasz czynniki, które skłaniają Cię do określonych zachowań, możesz podjąć działania pozwalające nad nimi zapanować.\\n【Note】zapamietaj 3\\n'"
      ]
     },
     "execution_count": 191,
     "metadata": {},
     "output_type": "execute_result"
    }
   ],
   "source": [
    "text3"
   ]
  },
  {
   "cell_type": "code",
   "execution_count": 192,
   "metadata": {},
   "outputs": [
    {
     "data": {
      "text/plain": [
       "'Znajdź pierwotną przyczynę dekoncentracji. Rozpraszanie się nie jest tylko kwestią elektronicznych gadżetów. Oddziel bezpośrednie przyczyny od prawdziwej siły sprawczej.\\nWszelka motywacja wynika z chęci ucieczki przed dyskomfortem. Jeśli\\xa0jakieś zachowanie wcześniej skutecznie przyniosło Ci ulgę, istnieje większe prawdopodobieństwo, że w ramach eskapizmu będziesz do niego wracać.\\nWszystkie sposoby unikania dyskomfortu są potencjalnie uzależniające, lecz to nie znaczy, że nie da się im oprzeć. Jeśli znasz czynniki, które skłaniają Cię do określonych zachowań, możesz podjąć działania pozwalające nad nimi zapanować.\\n【Note】zapamietaj 3\\n'"
      ]
     },
     "execution_count": 192,
     "metadata": {},
     "output_type": "execute_result"
    }
   ],
   "source": [
    "s = re.sub(r\"^[\\n\\r]+\", \"\", text3)\n",
    "s"
   ]
  },
  {
   "cell_type": "code",
   "execution_count": 184,
   "metadata": {},
   "outputs": [
    {
     "data": {
      "text/plain": [
       "'\\n.\\nZnajdź pierwotną przyczynę dekoncentracji. Rozpraszanie się nie jest tylko kwestią elektronicznych gadżetów. Oddziel bezpośrednie przyczyny od prawdziwej siły sprawczej.\\nWszelka motywacja wynika z chęci ucieczki przed dyskomfortem. Jeśli\\xa0jakieś zachowanie wcześniej skutecznie przyniosło Ci ulgę, istnieje większe prawdopodobieństwo, że w ramach eskapizmu będziesz do niego wracać.\\nWszystkie sposoby unikania dyskomfortu są potencjalnie uzależniające, lecz to nie znaczy, że nie da się im oprzeć. Jeśli znasz czynniki, które skłaniają Cię do określonych zachowań, możesz podjąć działania pozwalające nad nimi zapanować.\\n【Note】zapamietaj 3\\n'"
      ]
     },
     "execution_count": 184,
     "metadata": {},
     "output_type": "execute_result"
    }
   ],
   "source": [
    "text3.replace('\\xa0\\xa0|\\xa0\\xa0','.')"
   ]
  },
  {
   "cell_type": "code",
   "execution_count": 86,
   "metadata": {},
   "outputs": [
    {
     "name": "stdout",
     "output_type": "stream",
     "text": [
      "12\n"
     ]
    }
   ],
   "source": [
    "row['Location']=get_location(text)"
   ]
  },
  {
   "cell_type": "code",
   "execution_count": 206,
   "metadata": {},
   "outputs": [],
   "source": [
    "def get_highlight_and_note_new(text):\n",
    "    # start_page = text.find('Page No.')\n",
    "    # start = text[22:].find('\\n')\n",
    "\n",
    "    # highlight_dirty = text[start_page:][start+1:]\n",
    "    highlight_dirty=text\n",
    "    start_Note = highlight_dirty.find('【Note】')\n",
    "    highlight = highlight_dirty[:start_Note-1]\n",
    "    note = highlight_dirty[start_Note+6:-1]\n",
    "    highlight = re.sub(r\"^[\\n\\r]+\", \"\", highlight)\n",
    "    highlight = highlight.replace('\\n','')\n",
    "    return highlight, note, text\n",
    "highlight, note, text4 = get_highlight_and_note_new(text3)"
   ]
  },
  {
   "cell_type": "code",
   "execution_count": 207,
   "metadata": {},
   "outputs": [
    {
     "data": {
      "text/plain": [
       "('Zarządzanie czasem to zarządzanie bólem. Dekoncentracja oznacza marnowanie czasu i jak każde działanie jest powodowana chęcią uniknięcia dyskomfortu.Ewolucja przedkładała niezadowolenie nad satysfakcję. Ludzkie skłonności do nudy, negatywnego nastawienia, ruminacji i adaptacji hedonicznej sprawiają, że satysfakcja nigdy nie trwa długo.Niezadowolenie przyczynia się do postępu naszego gatunku, lecz także\\xa0do jego błędów. To wewnętrzna siła, którą możemy wykorzystać do poprawienia swojej sytuacji.Jeśli chcesz zapanować nad dekoncentracją, musisz nauczyć się radzić sobie z dyskomfortem',\n",
       " 'zapamietaj 4',\n",
       " '\\n\\nZarządzanie czasem to zarządzanie bólem. Dekoncentracja oznacza marnowanie czasu i jak każde działanie jest powodowana chęcią uniknięcia dyskomfortu.\\nEwolucja przedkładała niezadowolenie nad satysfakcję. Ludzkie skłonności do nudy, negatywnego nastawienia, ruminacji i adaptacji hedonicznej sprawiają, że satysfakcja nigdy nie trwa długo.\\nNiezadowolenie przyczynia się do postępu naszego gatunku, lecz także\\xa0do jego błędów. To wewnętrzna siła, którą możemy wykorzystać do poprawienia swojej sytuacji.\\nJeśli chcesz zapanować nad dekoncentracją, musisz nauczyć się radzić sobie z dyskomfortem\\n【Note】zapamietaj 4\\n')"
      ]
     },
     "execution_count": 207,
     "metadata": {},
     "output_type": "execute_result"
    }
   ],
   "source": [
    "highlight, note, text4"
   ]
  },
  {
   "cell_type": "code",
   "execution_count": 204,
   "metadata": {},
   "outputs": [],
   "source": [
    "row['Highlight'],row['Note'], text4 = get_highlight_and_note_new(text3)"
   ]
  },
  {
   "cell_type": "code",
   "execution_count": 205,
   "metadata": {},
   "outputs": [
    {
     "data": {
      "text/plain": [
       "{'Highlight': 'Zarządzanie czasem to zarządzanie bólem. Dekoncentracja oznacza marnowanie czasu i jak każde działanie jest powodowana chęcią uniknięcia dyskomfortu.\\nEwolucja przedkładała niezadowolenie nad satysfakcję. Ludzkie skłonności do nudy, negatywnego nastawienia, ruminacji i adaptacji hedonicznej sprawiają, że satysfakcja nigdy nie trwa długo.\\nNiezadowolenie przyczynia się do postępu naszego gatunku, lecz także\\xa0do jego błędów. To wewnętrzna siła, którą możemy wykorzystać do poprawienia swojej sytuacji.\\nJeśli chcesz zapanować nad dekoncentracją, musisz nauczyć się radzić sobie z dyskomfortem',\n",
       " 'Title': 'Nierozpraszalni',\n",
       " 'Author': 'Nir Eyal',\n",
       " 'URL': '',\n",
       " 'Note': 'zapamietaj 4',\n",
       " 'Location': '227',\n",
       " 'Date': '2023.02.24 17:13'}"
      ]
     },
     "execution_count": 205,
     "metadata": {},
     "output_type": "execute_result"
    }
   ],
   "source": [
    "row"
   ]
  },
  {
   "cell_type": "code",
   "execution_count": 50,
   "metadata": {},
   "outputs": [
    {
     "data": {
      "text/plain": [
       "['',\n",
       " '2023-02-01 23:33\\xa0\\xa0|\\xa0\\xa0Page No.: 15',\n",
       " 'Rozumiemy, że chcąc być bardziej produktywnymi, musimy przestać marnować czas i faktycznie zajmować się pracą. Wiemy, co trzeba robić. Nie wiemy tylko, jak przestać się dekoncentrować.',\n",
       " '【Note】we know what not how',\n",
       " '']"
      ]
     },
     "execution_count": 50,
     "metadata": {},
     "output_type": "execute_result"
    }
   ],
   "source": [
    "text_splitted = text.split('\\n')\n",
    "text_splitted"
   ]
  },
  {
   "cell_type": "code",
   "execution_count": 51,
   "metadata": {},
   "outputs": [
    {
     "data": {
      "text/plain": [
       "'Rozumiemy, że chcąc być bardziej produktywnymi, musimy przestać marnować czas i faktycznie zajmować się pracą. Wiemy, co trzeba robić. Nie wiemy tylko, jak przestać się dekoncentrować.'"
      ]
     },
     "execution_count": 51,
     "metadata": {},
     "output_type": "execute_result"
    }
   ],
   "source": [
    "row['Highlight']=text_splitted[2]\n",
    "text_splitted[2]"
   ]
  },
  {
   "cell_type": "code",
   "execution_count": 52,
   "metadata": {},
   "outputs": [
    {
     "data": {
      "text/plain": [
       "' know what not how'"
      ]
     },
     "execution_count": 52,
     "metadata": {},
     "output_type": "execute_result"
    }
   ],
   "source": [
    "row['Note']=text_splitted[3][8:]\n",
    "row['Note']"
   ]
  },
  {
   "cell_type": "code",
   "execution_count": 95,
   "metadata": {},
   "outputs": [],
   "source": [
    "row['Author'] = 'Nir Eyal'\n",
    "row['Title'] = 'Nierozpraszalni'"
   ]
  },
  {
   "cell_type": "code",
   "execution_count": 96,
   "metadata": {},
   "outputs": [
    {
     "data": {
      "text/plain": [
       "{'Highlight': 'W przyszłości na świecie będą dwa rodzaje ludzi: ci, którzy pozwalają, by ich uwaga i życie były kontrolowane i sterowane przez innych, oraz ci, którzy z dumą będą nazywać się „nierozpraszalnymi”',\n",
       " 'Title': 'Nierozpraszalni',\n",
       " 'Author': 'Nir Eyal',\n",
       " 'URL': '',\n",
       " 'Note': '2 rodzaje ludzi',\n",
       " 'Location': '12',\n",
       " 'Date': '2023.02.01 23:28'}"
      ]
     },
     "execution_count": 96,
     "metadata": {},
     "output_type": "execute_result"
    }
   ],
   "source": [
    "row"
   ]
  },
  {
   "cell_type": "code",
   "execution_count": 97,
   "metadata": {},
   "outputs": [],
   "source": [
    "filename = 'readwise\\data.csv'\n",
    "\n",
    "# Open the CSV file in write mode\n",
    "with open(filename, 'a', newline='', encoding='utf-8') as file:\n",
    "\n",
    "    # Create a writer object\n",
    "    writer = csv.DictWriter(file, fieldnames=row.keys(), delimiter = ';')\n",
    "\n",
    "    # Write the header row\n",
    "    # writer.writeheader()\n",
    "\n",
    "    # Write the data row\n",
    "    writer.writerow(row)"
   ]
  },
  {
   "cell_type": "code",
   "execution_count": null,
   "metadata": {},
   "outputs": [],
   "source": []
  }
 ],
 "metadata": {
  "kernelspec": {
   "display_name": "Python 3",
   "language": "python",
   "name": "python3"
  },
  "language_info": {
   "codemirror_mode": {
    "name": "ipython",
    "version": 3
   },
   "file_extension": ".py",
   "mimetype": "text/x-python",
   "name": "python",
   "nbconvert_exporter": "python",
   "pygments_lexer": "ipython3",
   "version": "3.8.6"
  },
  "orig_nbformat": 4,
  "vscode": {
   "interpreter": {
    "hash": "89bd11b7e98b65e9d44bbce90affcaa57b5bbc703b16ccc018fdbba9a69a88b2"
   }
  }
 },
 "nbformat": 4,
 "nbformat_minor": 2
}
