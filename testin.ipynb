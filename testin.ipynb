{
 "cells": [
  {
   "cell_type": "code",
   "execution_count": 1,
   "metadata": {},
   "outputs": [],
   "source": [
    "import csv"
   ]
  },
  {
   "cell_type": "code",
   "execution_count": 107,
   "metadata": {},
   "outputs": [
    {
     "name": "stdout",
     "output_type": "stream",
     "text": [
      "['Highlight;Title;Author;URL;Note;Location;Date']\n",
      "['To be happy I think you have to be doing something you not only enjoy;;;;;12;01.04.2020 13:45']\n",
      "['Call me Ishmael;Moby Dick;Herman Melville;;;;']\n"
     ]
    }
   ],
   "source": [
    "\n",
    "import csv\n",
    " \n",
    "# opening the CSV file\n",
    "with open('readwise\\sample_1.8.csv', mode ='r')as file:\n",
    "   \n",
    "  # reading the CSV file\n",
    "  csvFile = csv.reader(file)\n",
    " \n",
    "  # displaying the contents of the CSV file\n",
    "  for lines in csvFile:\n",
    "        print(lines)"
   ]
  },
  {
   "cell_type": "code",
   "execution_count": 151,
   "metadata": {},
   "outputs": [],
   "source": [
    "row = {'Highlight': '',\n",
    "        'Title': '',\n",
    "        'Author':'',\n",
    "        'URL':'',\n",
    "        'Note':'',\n",
    "        'Location':'',\n",
    "        'Date':''}"
   ]
  },
  {
   "cell_type": "code",
   "execution_count": 210,
   "metadata": {},
   "outputs": [],
   "source": [
    "notes_path = \"readwise\\\\nierozpraszalni-nir-eyal.txt\"\n",
    "notes_path = \"readwise\\How-to-sell-anything.txt\"\n",
    "\n",
    "import io\n",
    "with io.open(notes_path,'r',encoding='utf8') as f:\n",
    "    text = f.read()\n",
    "    "
   ]
  },
  {
   "cell_type": "code",
   "execution_count": 211,
   "metadata": {},
   "outputs": [
    {
     "data": {
      "text/plain": [
       "str"
      ]
     },
     "execution_count": 211,
     "metadata": {},
     "output_type": "execute_result"
    }
   ],
   "source": [
    "type(text)"
   ]
  },
  {
   "cell_type": "code",
   "execution_count": 212,
   "metadata": {},
   "outputs": [],
   "source": [
    "data_splited = text.split('-------------------')"
   ]
  },
  {
   "cell_type": "code",
   "execution_count": null,
   "metadata": {},
   "outputs": [],
   "source": [
    "Reading Notes | <<How to Sell Anything to Anybody>>Joe Girard Stanley H. Brown\n",
    "12 Knowing What You’re Doing—and Why"
   ]
  },
  {
   "cell_type": "code",
   "execution_count": 213,
   "metadata": {},
   "outputs": [],
   "source": [
    "author = 'Joe Girard'\n",
    "title = 'How to sell anything to anybody'"
   ]
  },
  {
   "cell_type": "code",
   "execution_count": 214,
   "metadata": {},
   "outputs": [],
   "source": [
    "for item in data_splited[1:-1]:\n",
    "    row = {'Highlight': '',\n",
    "        'Title': '',\n",
    "        'Author':'',\n",
    "        'URL':'',\n",
    "        'Note':'',\n",
    "        'Location':'',\n",
    "        'Date':''}\n",
    "    date, text = get_date(item)\n",
    "    row['Date'] = date\n",
    "    location, text = get_location(text)\n",
    "    row['Location'] = location\n",
    "    highlight, note, text = get_highlight_and_note_new(text)\n",
    "    row['Highlight'],row['Note']=highlight, note\n",
    "    row['Author'] = author\n",
    "    row['Title'] = title\n",
    "\n",
    "    filename = f\"readwise\\data_{title.replace(' ','_')}.csv\"\n",
    "\n",
    "    # Open the CSV file in write mode\n",
    "    with open(filename, 'a', newline='', encoding='utf-8') as file:\n",
    "\n",
    "        # Create a writer object\n",
    "        writer = csv.DictWriter(file, fieldnames=row.keys(), delimiter = ';')\n",
    "\n",
    "        # Write the header row\n",
    "        # writer.writeheader()\n",
    "\n",
    "        # Write the data row\n",
    "        writer.writerow(row)\n",
    "\n",
    "        # print(row)\n",
    "    \n",
    "\n"
   ]
  },
  {
   "cell_type": "code",
   "execution_count": 198,
   "metadata": {},
   "outputs": [
    {
     "data": {
      "text/plain": [
       "'\\n2023-02-02 00:25\\xa0\\xa0|\\xa0\\xa0Page No.: 35\\nZarządzanie czasem to zarządzanie bólem. Dekoncentracja oznacza marnowanie czasu i jak każde działanie jest powodowana chęcią uniknięcia dyskomfortu.\\nEwolucja przedkładała niezadowolenie nad satysfakcję. Ludzkie skłonności do nudy, negatywnego nastawienia, ruminacji i adaptacji hedonicznej sprawiają, że satysfakcja nigdy nie trwa długo.\\nNiezadowolenie przyczynia się do postępu naszego gatunku, lecz także\\xa0do jego błędów. To wewnętrzna siła, którą możemy wykorzystać do poprawienia swojej sytuacji.\\nJeśli chcesz zapanować nad dekoncentracją, musisz nauczyć się radzić sobie z dyskomfortem\\n【Note】zapamietaj 4\\n'"
      ]
     },
     "execution_count": 198,
     "metadata": {},
     "output_type": "execute_result"
    }
   ],
   "source": [
    "text = data_splited[26]\n",
    "data_splited[26]"
   ]
  },
  {
   "cell_type": "code",
   "execution_count": null,
   "metadata": {},
   "outputs": [],
   "source": []
  },
  {
   "cell_type": "code",
   "execution_count": 180,
   "metadata": {},
   "outputs": [
    {
     "data": {
      "text/plain": [
       "'Znajdź pierwotną przyczynę dekoncentracji. Rozpraszanie się nie jest tylko kwestią elektronicznych gadżetów. Oddziel bezpośrednie przyczyny od prawdziwej siły sprawczej.\\nWszelka motywacja wynika z chęci ucieczki przed dyskomfortem. Jeśli\\xa0jakieś zachowanie wcześniej skutecznie przyniosło Ci ulgę, istnieje większe prawdopodobieństwo, że w ramach eskapizmu będziesz do niego wracać.\\nWszystkie sposoby unikania dyskomfortu są potencjalnie uzależniające, lecz to nie znaczy, że nie da się im oprzeć. Jeśli znasz czynniki, które skłaniają Cię do określonych zachowań, możesz podjąć działania pozwalające nad nimi zapanować.\\n【Note】zapamietaj 3\\n'"
      ]
     },
     "execution_count": 180,
     "metadata": {},
     "output_type": "execute_result"
    }
   ],
   "source": [
    "start_page = text.find('Page No.')\n",
    "start = text[22:].find('\\n')\n",
    "start_note = text.find('[Note]')\n",
    "highlight_dirty = text[start_page:][start+1:]\n",
    "highlight_dirty"
   ]
  },
  {
   "cell_type": "code",
   "execution_count": 142,
   "metadata": {},
   "outputs": [
    {
     "data": {
      "text/plain": [
       "'Znajdź pierwotną przyczynę dekoncentracji. Rozpraszanie się nie jest tylko kwestią elektronicznych gadżetów. Oddziel bezpośrednie przyczyny od prawdziwej siły sprawczej.\\nWszelka motywacja wynika z chęci ucieczki przed dyskomfortem. Jeśli\\xa0jakieś zachowanie wcześniej skutecznie przyniosło Ci ulgę, istnieje większe prawdopodobieństwo, że w ramach eskapizmu będziesz do niego wracać.\\nWszystkie sposoby unikania dyskomfortu są potencjalnie uzależniające, lecz to nie znaczy, że nie da się im oprzeć. Jeśli znasz czynniki, które skłaniają Cię do określonych zachowań, możesz podjąć działania pozwalające nad nimi zapanować.'"
      ]
     },
     "execution_count": 142,
     "metadata": {},
     "output_type": "execute_result"
    }
   ],
   "source": [
    "start_Note = highlight_dirty.find('【Note】')\n",
    "highlight_dirty[:start_Note-1]"
   ]
  },
  {
   "cell_type": "code",
   "execution_count": 200,
   "metadata": {},
   "outputs": [
    {
     "data": {
      "text/plain": [
       "('2023.02.02 00:25',\n",
       " '\\n\\xa0\\xa0|\\xa0\\xa0Page No.: 35\\nZarządzanie czasem to zarządzanie bólem. Dekoncentracja oznacza marnowanie czasu i jak każde działanie jest powodowana chęcią uniknięcia dyskomfortu.\\nEwolucja przedkładała niezadowolenie nad satysfakcję. Ludzkie skłonności do nudy, negatywnego nastawienia, ruminacji i adaptacji hedonicznej sprawiają, że satysfakcja nigdy nie trwa długo.\\nNiezadowolenie przyczynia się do postępu naszego gatunku, lecz także\\xa0do jego błędów. To wewnętrzna siła, którą możemy wykorzystać do poprawienia swojej sytuacji.\\nJeśli chcesz zapanować nad dekoncentracją, musisz nauczyć się radzić sobie z dyskomfortem\\n【Note】zapamietaj 4\\n')"
      ]
     },
     "execution_count": 200,
     "metadata": {},
     "output_type": "execute_result"
    }
   ],
   "source": [
    "import re\n",
    "def get_date(text):\n",
    "    regex = r\"\\d{4}-\\d{2}-\\d{2} \\d{2}:\\d{2}\"\n",
    "    match = re.search(regex, text)\n",
    "    indexes = match.span()\n",
    "    date_text = text[indexes[0]:indexes[1]]\n",
    "    text = text.replace(date_text,'')\n",
    "    return match[0].replace('-','.'), text\n",
    "date, text2 = get_date(text)\n",
    "date, text2"
   ]
  },
  {
   "cell_type": "code",
   "execution_count": 84,
   "metadata": {},
   "outputs": [
    {
     "name": "stdout",
     "output_type": "stream",
     "text": [
      "2023.02.01 23:28\n"
     ]
    }
   ],
   "source": [
    "row['Date']=get_date(text)"
   ]
  },
  {
   "cell_type": "code",
   "execution_count": 48,
   "metadata": {},
   "outputs": [
    {
     "data": {
      "text/plain": [
       "'2023.02.01 23:33'"
      ]
     },
     "execution_count": 48,
     "metadata": {},
     "output_type": "execute_result"
    }
   ],
   "source": [
    "row['Date']"
   ]
  },
  {
   "cell_type": "code",
   "execution_count": 201,
   "metadata": {},
   "outputs": [
    {
     "data": {
      "text/plain": [
       "('35',\n",
       " '\\n\\nZarządzanie czasem to zarządzanie bólem. Dekoncentracja oznacza marnowanie czasu i jak każde działanie jest powodowana chęcią uniknięcia dyskomfortu.\\nEwolucja przedkładała niezadowolenie nad satysfakcję. Ludzkie skłonności do nudy, negatywnego nastawienia, ruminacji i adaptacji hedonicznej sprawiają, że satysfakcja nigdy nie trwa długo.\\nNiezadowolenie przyczynia się do postępu naszego gatunku, lecz także\\xa0do jego błędów. To wewnętrzna siła, którą możemy wykorzystać do poprawienia swojej sytuacji.\\nJeśli chcesz zapanować nad dekoncentracją, musisz nauczyć się radzić sobie z dyskomfortem\\n【Note】zapamietaj 4\\n')"
      ]
     },
     "execution_count": 201,
     "metadata": {},
     "output_type": "execute_result"
    }
   ],
   "source": [
    "def get_location(text):\n",
    "    regex = r\"Page No\\.:\\s*(\\d+)\"\n",
    "    match = re.search(regex, text)\n",
    "    page_number = match.group(1)\n",
    "    page_text = text[match.start():match.end()]\n",
    "    text = text.replace(page_text,'')\n",
    "    # print(text)\n",
    "    # print(page_number)\n",
    "    # row['Location']=page_number\n",
    "    text = text.replace('\\xa0\\xa0|\\xa0\\xa0','')\n",
    "    return page_number, text\n",
    "location, text3 = get_location(text2)\n",
    "location, text3"
   ]
  },
  {
   "cell_type": "code",
   "execution_count": 191,
   "metadata": {},
   "outputs": [
    {
     "data": {
      "text/plain": [
       "'\\n\\nZnajdź pierwotną przyczynę dekoncentracji. Rozpraszanie się nie jest tylko kwestią elektronicznych gadżetów. Oddziel bezpośrednie przyczyny od prawdziwej siły sprawczej.\\nWszelka motywacja wynika z chęci ucieczki przed dyskomfortem. Jeśli\\xa0jakieś zachowanie wcześniej skutecznie przyniosło Ci ulgę, istnieje większe prawdopodobieństwo, że w ramach eskapizmu będziesz do niego wracać.\\nWszystkie sposoby unikania dyskomfortu są potencjalnie uzależniające, lecz to nie znaczy, że nie da się im oprzeć. Jeśli znasz czynniki, które skłaniają Cię do określonych zachowań, możesz podjąć działania pozwalające nad nimi zapanować.\\n【Note】zapamietaj 3\\n'"
      ]
     },
     "execution_count": 191,
     "metadata": {},
     "output_type": "execute_result"
    }
   ],
   "source": [
    "text3"
   ]
  },
  {
   "cell_type": "code",
   "execution_count": 192,
   "metadata": {},
   "outputs": [
    {
     "data": {
      "text/plain": [
       "'Znajdź pierwotną przyczynę dekoncentracji. Rozpraszanie się nie jest tylko kwestią elektronicznych gadżetów. Oddziel bezpośrednie przyczyny od prawdziwej siły sprawczej.\\nWszelka motywacja wynika z chęci ucieczki przed dyskomfortem. Jeśli\\xa0jakieś zachowanie wcześniej skutecznie przyniosło Ci ulgę, istnieje większe prawdopodobieństwo, że w ramach eskapizmu będziesz do niego wracać.\\nWszystkie sposoby unikania dyskomfortu są potencjalnie uzależniające, lecz to nie znaczy, że nie da się im oprzeć. Jeśli znasz czynniki, które skłaniają Cię do określonych zachowań, możesz podjąć działania pozwalające nad nimi zapanować.\\n【Note】zapamietaj 3\\n'"
      ]
     },
     "execution_count": 192,
     "metadata": {},
     "output_type": "execute_result"
    }
   ],
   "source": [
    "s = re.sub(r\"^[\\n\\r]+\", \"\", text3)\n",
    "s"
   ]
  },
  {
   "cell_type": "code",
   "execution_count": 184,
   "metadata": {},
   "outputs": [
    {
     "data": {
      "text/plain": [
       "'\\n.\\nZnajdź pierwotną przyczynę dekoncentracji. Rozpraszanie się nie jest tylko kwestią elektronicznych gadżetów. Oddziel bezpośrednie przyczyny od prawdziwej siły sprawczej.\\nWszelka motywacja wynika z chęci ucieczki przed dyskomfortem. Jeśli\\xa0jakieś zachowanie wcześniej skutecznie przyniosło Ci ulgę, istnieje większe prawdopodobieństwo, że w ramach eskapizmu będziesz do niego wracać.\\nWszystkie sposoby unikania dyskomfortu są potencjalnie uzależniające, lecz to nie znaczy, że nie da się im oprzeć. Jeśli znasz czynniki, które skłaniają Cię do określonych zachowań, możesz podjąć działania pozwalające nad nimi zapanować.\\n【Note】zapamietaj 3\\n'"
      ]
     },
     "execution_count": 184,
     "metadata": {},
     "output_type": "execute_result"
    }
   ],
   "source": [
    "text3.replace('\\xa0\\xa0|\\xa0\\xa0','.')"
   ]
  },
  {
   "cell_type": "code",
   "execution_count": 86,
   "metadata": {},
   "outputs": [
    {
     "name": "stdout",
     "output_type": "stream",
     "text": [
      "12\n"
     ]
    }
   ],
   "source": [
    "row['Location']=get_location(text)"
   ]
  },
  {
   "cell_type": "code",
   "execution_count": 206,
   "metadata": {},
   "outputs": [],
   "source": [
    "def get_highlight_and_note_new(text):\n",
    "    # start_page = text.find('Page No.')\n",
    "    # start = text[22:].find('\\n')\n",
    "\n",
    "    # highlight_dirty = text[start_page:][start+1:]\n",
    "    highlight_dirty=text\n",
    "    start_Note = highlight_dirty.find('【Note】')\n",
    "    highlight = highlight_dirty[:start_Note-1]\n",
    "    note = highlight_dirty[start_Note+6:-1]\n",
    "    highlight = re.sub(r\"^[\\n\\r]+\", \"\", highlight)\n",
    "    highlight = highlight.replace('\\n','')\n",
    "    return highlight, note, text\n",
    "highlight, note, text4 = get_highlight_and_note_new(text3)"
   ]
  },
  {
   "cell_type": "code",
   "execution_count": 207,
   "metadata": {},
   "outputs": [
    {
     "data": {
      "text/plain": [
       "('Zarządzanie czasem to zarządzanie bólem. Dekoncentracja oznacza marnowanie czasu i jak każde działanie jest powodowana chęcią uniknięcia dyskomfortu.Ewolucja przedkładała niezadowolenie nad satysfakcję. Ludzkie skłonności do nudy, negatywnego nastawienia, ruminacji i adaptacji hedonicznej sprawiają, że satysfakcja nigdy nie trwa długo.Niezadowolenie przyczynia się do postępu naszego gatunku, lecz także\\xa0do jego błędów. To wewnętrzna siła, którą możemy wykorzystać do poprawienia swojej sytuacji.Jeśli chcesz zapanować nad dekoncentracją, musisz nauczyć się radzić sobie z dyskomfortem',\n",
       " 'zapamietaj 4',\n",
       " '\\n\\nZarządzanie czasem to zarządzanie bólem. Dekoncentracja oznacza marnowanie czasu i jak każde działanie jest powodowana chęcią uniknięcia dyskomfortu.\\nEwolucja przedkładała niezadowolenie nad satysfakcję. Ludzkie skłonności do nudy, negatywnego nastawienia, ruminacji i adaptacji hedonicznej sprawiają, że satysfakcja nigdy nie trwa długo.\\nNiezadowolenie przyczynia się do postępu naszego gatunku, lecz także\\xa0do jego błędów. To wewnętrzna siła, którą możemy wykorzystać do poprawienia swojej sytuacji.\\nJeśli chcesz zapanować nad dekoncentracją, musisz nauczyć się radzić sobie z dyskomfortem\\n【Note】zapamietaj 4\\n')"
      ]
     },
     "execution_count": 207,
     "metadata": {},
     "output_type": "execute_result"
    }
   ],
   "source": [
    "highlight, note, text4"
   ]
  },
  {
   "cell_type": "code",
   "execution_count": 204,
   "metadata": {},
   "outputs": [],
   "source": [
    "row['Highlight'],row['Note'], text4 = get_highlight_and_note_new(text3)"
   ]
  },
  {
   "cell_type": "code",
   "execution_count": 205,
   "metadata": {},
   "outputs": [
    {
     "data": {
      "text/plain": [
       "{'Highlight': 'Zarządzanie czasem to zarządzanie bólem. Dekoncentracja oznacza marnowanie czasu i jak każde działanie jest powodowana chęcią uniknięcia dyskomfortu.\\nEwolucja przedkładała niezadowolenie nad satysfakcję. Ludzkie skłonności do nudy, negatywnego nastawienia, ruminacji i adaptacji hedonicznej sprawiają, że satysfakcja nigdy nie trwa długo.\\nNiezadowolenie przyczynia się do postępu naszego gatunku, lecz także\\xa0do jego błędów. To wewnętrzna siła, którą możemy wykorzystać do poprawienia swojej sytuacji.\\nJeśli chcesz zapanować nad dekoncentracją, musisz nauczyć się radzić sobie z dyskomfortem',\n",
       " 'Title': 'Nierozpraszalni',\n",
       " 'Author': 'Nir Eyal',\n",
       " 'URL': '',\n",
       " 'Note': 'zapamietaj 4',\n",
       " 'Location': '227',\n",
       " 'Date': '2023.02.24 17:13'}"
      ]
     },
     "execution_count": 205,
     "metadata": {},
     "output_type": "execute_result"
    }
   ],
   "source": [
    "row"
   ]
  },
  {
   "cell_type": "code",
   "execution_count": 50,
   "metadata": {},
   "outputs": [
    {
     "data": {
      "text/plain": [
       "['',\n",
       " '2023-02-01 23:33\\xa0\\xa0|\\xa0\\xa0Page No.: 15',\n",
       " 'Rozumiemy, że chcąc być bardziej produktywnymi, musimy przestać marnować czas i faktycznie zajmować się pracą. Wiemy, co trzeba robić. Nie wiemy tylko, jak przestać się dekoncentrować.',\n",
       " '【Note】we know what not how',\n",
       " '']"
      ]
     },
     "execution_count": 50,
     "metadata": {},
     "output_type": "execute_result"
    }
   ],
   "source": [
    "text_splitted = text.split('\\n')\n",
    "text_splitted"
   ]
  },
  {
   "cell_type": "code",
   "execution_count": 51,
   "metadata": {},
   "outputs": [
    {
     "data": {
      "text/plain": [
       "'Rozumiemy, że chcąc być bardziej produktywnymi, musimy przestać marnować czas i faktycznie zajmować się pracą. Wiemy, co trzeba robić. Nie wiemy tylko, jak przestać się dekoncentrować.'"
      ]
     },
     "execution_count": 51,
     "metadata": {},
     "output_type": "execute_result"
    }
   ],
   "source": [
    "row['Highlight']=text_splitted[2]\n",
    "text_splitted[2]"
   ]
  },
  {
   "cell_type": "code",
   "execution_count": 52,
   "metadata": {},
   "outputs": [
    {
     "data": {
      "text/plain": [
       "' know what not how'"
      ]
     },
     "execution_count": 52,
     "metadata": {},
     "output_type": "execute_result"
    }
   ],
   "source": [
    "row['Note']=text_splitted[3][8:]\n",
    "row['Note']"
   ]
  },
  {
   "cell_type": "code",
   "execution_count": 95,
   "metadata": {},
   "outputs": [],
   "source": [
    "row['Author'] = 'Nir Eyal'\n",
    "row['Title'] = 'Nierozpraszalni'"
   ]
  },
  {
   "cell_type": "code",
   "execution_count": 96,
   "metadata": {},
   "outputs": [
    {
     "data": {
      "text/plain": [
       "{'Highlight': 'W przyszłości na świecie będą dwa rodzaje ludzi: ci, którzy pozwalają, by ich uwaga i życie były kontrolowane i sterowane przez innych, oraz ci, którzy z dumą będą nazywać się „nierozpraszalnymi”',\n",
       " 'Title': 'Nierozpraszalni',\n",
       " 'Author': 'Nir Eyal',\n",
       " 'URL': '',\n",
       " 'Note': '2 rodzaje ludzi',\n",
       " 'Location': '12',\n",
       " 'Date': '2023.02.01 23:28'}"
      ]
     },
     "execution_count": 96,
     "metadata": {},
     "output_type": "execute_result"
    }
   ],
   "source": [
    "row"
   ]
  },
  {
   "cell_type": "code",
   "execution_count": 97,
   "metadata": {},
   "outputs": [],
   "source": [
    "filename = 'readwise\\data.csv'\n",
    "\n",
    "# Open the CSV file in write mode\n",
    "with open(filename, 'a', newline='', encoding='utf-8') as file:\n",
    "\n",
    "    # Create a writer object\n",
    "    writer = csv.DictWriter(file, fieldnames=row.keys(), delimiter = ';')\n",
    "\n",
    "    # Write the header row\n",
    "    # writer.writeheader()\n",
    "\n",
    "    # Write the data row\n",
    "    writer.writerow(row)"
   ]
  },
  {
   "cell_type": "code",
   "execution_count": 4,
   "metadata": {},
   "outputs": [],
   "source": [
    "def read_csv_rows_in_dict(filepath):\n",
    "    with open(filepath, 'r', encoding='utf-8') as f:\n",
    "        data = f.read().split('\\n')\n",
    "    headers = data[0].split(';')\n",
    "    data = data[1:]\n",
    "    data = [item.split(';') for item in data]\n",
    "    data = [dict(zip(headers, item)) for item in data]\n",
    "    return data\n"
   ]
  },
  {
   "cell_type": "code",
   "execution_count": 5,
   "metadata": {},
   "outputs": [
    {
     "data": {
      "text/plain": [
       "[{'Highlight': 'W przyszłości na świecie będą dwa rodzaje ludzi: ci, którzy pozwalają, by ich uwaga i życie były kontrolowane i sterowane przez innych, oraz ci, którzy z dumą będą nazywać się „nierozpraszalnymi”',\n",
       "  'Title': 'Nierozpraszalni',\n",
       "  'Author': 'Nir Eyal',\n",
       "  'URL': '',\n",
       "  'Note': '2 rodzaje ludzi',\n",
       "  'Location': '12',\n",
       "  'Date': '2023.02.01 23:28'},\n",
       " {'Highlight': 'Wyrzeczenie się technologii internetowych nie\\xa0poskutkowało. Po prostu zastąpiłem jedną rozrywkę inną.',\n",
       "  'Title': 'Nierozpraszalni',\n",
       "  'Author': 'Nir Eyal',\n",
       "  'URL': '',\n",
       "  'Note': 'its not technology',\n",
       "  'Location': '15',\n",
       "  'Date': '2023.02.01 23:33'},\n",
       " {'Highlight': 'Rozumiemy, że chcąc być bardziej produktywnymi, musimy przestać marnować czas i faktycznie zajmować się pracą. Wiemy, co trzeba robić. Nie wiemy tylko, jak przestać się dekoncentrować.',\n",
       "  'Title': 'Nierozpraszalni',\n",
       "  'Author': 'Nir Eyal',\n",
       "  'URL': '',\n",
       "  'Note': 'we know what not how',\n",
       "  'Location': '15',\n",
       "  'Date': '2023.02.01 23:33'},\n",
       " {'Highlight': 'dlaczego nie powinieneś mówić, że coś Cię rozprasza, dopóki nie określisz, od czego odciąga to Twoją uwagę',\n",
       "  'Title': 'Nierozpraszalni',\n",
       "  'Author': 'Nir Eyal',\n",
       "  'URL': '',\n",
       "  'Note': 'deconcetrare from what else',\n",
       "  'Location': '16',\n",
       "  'Date': '2023.02.01 23:36'},\n",
       " {'Highlight': 'Czas, który planujesz stracić, nie jest czasem straconym[',\n",
       "  'Title': 'Nierozpraszalni',\n",
       "  'Author': 'Nir Eyal',\n",
       "  'URL': '',\n",
       "  'Note': 'czas control',\n",
       "  'Location': '16',\n",
       "  'Date': '2023.02.01 23:36'},\n",
       " {'Highlight': 'Unikania rozpraszających bodźców trzeba się nauczyć. Aby wieść życie, na jakim nam zależy, należy nie tylko robić rzeczy właściwe, lecz także nie robić takich, których będziemy żałować.Problem nie dotyczy wyłącznie nowoczesnej technologii. Nierozpraszalność nie wymaga bycia luddytą. Chodzi o zrozumienie prawdziwych powodów postępowania wbrew swoim interesom.Co trzeba zrobić? Nierozpraszalność można osiągnąć dzięki nauce i\\xa0stosowaniu czterech fundamentalnych strategii postępowania',\n",
       "  'Title': 'Nierozpraszalni',\n",
       "  'Author': 'Nir Eyal',\n",
       "  'URL': '',\n",
       "  'Note': 'zapamietaj 1',\n",
       "  'Location': '17',\n",
       "  'Date': '2023.02.01 23:39'},\n",
       " {'Highlight': 'Trudno o lepszy wizerunek ludzkiej kondycji. Nieustannie po coś sięgamy: więcej pieniędzy, kolejne doświadczenia, wiedzę, wyższy status społeczny, więcej rzeczy. Dawni Grecy sądzili, że to część przekleństwa związanego z byciem omylnym śmiertelnikiem, i wykorzystali przytoczoną historię, by przedstawić potęgę niezaspokojonych ludzkich pragnień.',\n",
       "  'Title': 'Nierozpraszalni',\n",
       "  'Author': 'Nir Eyal',\n",
       "  'URL': '',\n",
       "  'Note': 'niezaspokojone ludzkie pragnienia',\n",
       "  'Location': '18',\n",
       "  'Date': '2023.02.01 23:41'},\n",
       " {'Highlight': 'Bogactwo informacji oznacza niedostatek czegoś innego (…) ubóstwo uwagi”[6].',\n",
       "  'Title': 'Nierozpraszalni',\n",
       "  'Author': 'Nir Eyal',\n",
       "  'URL': '',\n",
       "  'Note': 'bogactwo to ubostwo uwagi',\n",
       "  'Location': '22',\n",
       "  'Date': '2023.02.01 23:46'},\n",
       " {'Highlight': 'Naukowcy informują, że uwaga i koncentracja są surowcami niezbędnymi do rozkwitu i kreatywności[7]. W epoce postępującej automatyzacji najbardziej rozchwytywani specjaliści to ci, którzy potrafią kreatywnie podchodzić do problemów, proponować nowatorskie rozwiązania i cechują się tego rodzaju pomysłowością, która wynika z głębokiego skupienia na określonym zadaniu.',\n",
       "  'Title': 'Nierozpraszalni',\n",
       "  'Author': 'Nir Eyal',\n",
       "  'URL': '',\n",
       "  'Note': 'rozkwit kreatywnosc',\n",
       "  'Location': '22',\n",
       "  'Date': '2023.02.01 23:48'},\n",
       " {'Highlight': 'Klątwą była ślepota na fakt, że wcale tych rzeczy nie potrzebował. To prawdziwy morał tego mitu',\n",
       "  'Title': 'Nierozpraszalni',\n",
       "  'Author': 'Nir Eyal',\n",
       "  'URL': '',\n",
       "  'Note': \"you don't need this\",\n",
       "  'Location': '22',\n",
       "  'Date': '2023.02.01 23:49'},\n",
       " {'Highlight': 'Nierozpraszalność oznacza dążenie do zrobienia tego, co mówisz, że zrobisz.',\n",
       "  'Title': 'Nierozpraszalni',\n",
       "  'Author': 'Nir Eyal',\n",
       "  'URL': '',\n",
       "  'Note': 'mowisz ze zrobisz',\n",
       "  'Location': '22',\n",
       "  'Date': '2023.02.01 23:51'},\n",
       " {'Highlight': 'Pogoń za atrakcjami uniemożliwia osiąganie wyznaczonych celów. Atrakcją jest dowolne działanie, które odwodzi Cię od tego, czego naprawdę chcesz.Trakcja zbliża do celu. Trakcją jest dowolne działanie, które przybliża Cię do tego, czego naprawdę chcesz.Trakcja i atrakcja są konsekwencją różnych bodźców. Zewnętrzne bodźce skłaniają dopodejmowania działań za pośrednictwem wskazówek płynących z otoczenia. Wewnętrzne bodźce skłaniają do podejmowania działań za pośrednictwem wskazówek płynących z wnętrza.',\n",
       "  'Title': 'Nierozpraszalni',\n",
       "  'Author': 'Nir Eyal',\n",
       "  'URL': '',\n",
       "  'Note': 'zapamietaj 2',\n",
       "  'Location': '23',\n",
       "  'Date': '2023.02.01 23:52'},\n",
       " {'Highlight': 'Nawet gdy sądzimy, że szukamy przyjemności, tak naprawdę napędza nas pragnienie ucieczki od\\xa0bólu chcenia',\n",
       "  'Title': 'Nierozpraszalni',\n",
       "  'Author': 'Nir Eyal',\n",
       "  'URL': '',\n",
       "  'Note': 'bol chcenia',\n",
       "  'Location': '28',\n",
       "  'Date': '2023.02.01 23:57'},\n",
       " {'Highlight': 'Krótko mówiąc, siłą sprawczą wszystkich naszych zachowań jest dążenie do zmniejszenia dyskomfortu, wszystko inne zaś to bieżące, bezpośrednie pobudki',\n",
       "  'Title': 'Nierozpraszalni',\n",
       "  'Author': 'Nir Eyal',\n",
       "  'URL': '',\n",
       "  'Note': 'zmniejszanie dyskomfortu',\n",
       "  'Location': '28',\n",
       "  'Date': '2023.02.01 23:58'},\n",
       " {'Highlight': 'Jeśli nie zajmiemy się siłami sprawczymi, które sprzyjają dekoncentracji, nadal będziemy wynajdywać sposoby na odwracanie uwagi. Jak się okazuje, w rozpraszaniu się nie chodzi o sam dekoncentrujący bodziec, lecz raczej o to, jak na niego zareagujemy.',\n",
       "  'Title': 'Nierozpraszalni',\n",
       "  'Author': 'Nir Eyal',\n",
       "  'URL': '',\n",
       "  'Note': 'sily sprawcze',\n",
       "  'Location': '29',\n",
       "  'Date': '2023.02.02 00:00'},\n",
       " {'Highlight': '\"Gdy próbujesz uciec od bólu czegoś tak poważnego jak ewentualny rozwód, to prawdziwym problemem nie jest krokomierz',\n",
       "  'Title': ' jeśli nie uporasz się z dyskomfortem, który napędza chęć do ucieczki, będziesz szukać doraźnych rozwiązań w postaci różnych zaprzątających uwagę atrakcji\"',\n",
       "  'Author': 'Nierozpraszalni',\n",
       "  'URL': 'Nir Eyal',\n",
       "  'Note': '',\n",
       "  'Location': 'dorazne rozwiazania',\n",
       "  'Date': '30'},\n",
       " {'Highlight': 'Jedynie dzięki zrozumieniu istoty naszego bólu możemy zacząć go kontrolować i znaleźć lepsze sposoby radzenia sobie ze szkodliwymi pragnieniami',\n",
       "  'Title': 'Nierozpraszalni',\n",
       "  'Author': 'Nir Eyal',\n",
       "  'URL': '',\n",
       "  'Note': 'szkodliwe pragnienia',\n",
       "  'Location': '30',\n",
       "  'Date': '2023.02.02 00:04'},\n",
       " {'Highlight': 'Znajdź pierwotną przyczynę dekoncentracji. Rozpraszanie się nie jest tylko kwestią elektronicznych gadżetów. Oddziel bezpośrednie przyczyny od prawdziwej siły sprawczej.Wszelka motywacja wynika z chęci ucieczki przed dyskomfortem. Jeśli\\xa0jakieś zachowanie wcześniej skutecznie przyniosło Ci ulgę, istnieje większe prawdopodobieństwo, że w ramach eskapizmu będziesz do niego wracać.Wszystkie sposoby unikania dyskomfortu są potencjalnie uzależniające, lecz to nie znaczy, że nie da się im oprzeć. Jeśli znasz czynniki, które skłaniają Cię do określonych zachowań, możesz podjąć działania pozwalające nad nimi zapanować.',\n",
       "  'Title': 'Nierozpraszalni',\n",
       "  'Author': 'Nir Eyal',\n",
       "  'URL': '',\n",
       "  'Note': 'zapamietaj 3',\n",
       "  'Location': '31',\n",
       "  'Date': '2023.02.02 00:06'},\n",
       " {'Highlight': 'Jeśli dekoncentrując się, tracimy czas, to\\xa0zarządzanie czasem jest zarządzaniem bólem',\n",
       "  'Title': 'Nierozpraszalni',\n",
       "  'Author': 'Nir Eyal',\n",
       "  'URL': '',\n",
       "  'Note': 'zarzadzanie bolem',\n",
       "  'Location': '32',\n",
       "  'Date': '2023.02.02 00:11'},\n",
       " {'Highlight': 'Samuel Johnson: „Moje życie jest jedną wielką ucieczką od siebie',\n",
       "  'Title': 'Nierozpraszalni',\n",
       "  'Author': 'Nir Eyal',\n",
       "  'URL': '',\n",
       "  'Note': 'ucieczka Od siebie',\n",
       "  'Location': '32',\n",
       "  'Date': '2023.02.02 00:12'},\n",
       " {'Highlight': 'Innymi słowy, poczucie błogiego zadowolenia nie byłoby dobre dla gatunku. Nasi przodkowie pracowali ciężej i bardziej się starali, bo ewolucja wyposażyła ich w poczucie wiecznego niedosytu — i tak już nam zostało.',\n",
       "  'Title': 'Nierozpraszalni',\n",
       "  'Author': 'Nir Eyal',\n",
       "  'URL': '',\n",
       "  'Note': 'wieczny niedosyt',\n",
       "  'Location': '33',\n",
       "  'Date': '2023.02.02 00:14'},\n",
       " {'Highlight': 'Ludzie wolą działać niż myśleć, nawet jeśli to, co robią, jest tak nieprzyjemne, że w normalnych okolicznościach zapłaciliby, aby tego uniknąć',\n",
       "  'Title': 'Nierozpraszalni',\n",
       "  'Author': 'Nir Eyal',\n",
       "  'URL': '',\n",
       "  'Note': 'wola dzialac niz myslec',\n",
       "  'Location': '33',\n",
       "  'Date': '2023.02.02 00:15'},\n",
       " {'Highlight': 'Jeśli kiedykolwiek raz po raz wracałeś myślami do czegoś, co zrobiłeś albo co ktoś zrobił Tobie, i miałeś wrażenie, że nie jesteś w stanie przestać się nad tym zastanawiać, to doświadczyłeś czegoś, co psychologowie nazywają ruminacjami.',\n",
       "  'Title': 'Nierozpraszalni',\n",
       "  'Author': 'Nir Eyal',\n",
       "  'URL': '',\n",
       "  'Note': 'ruminacja',\n",
       "  'Location': '34',\n",
       "  'Date': '2023.02.02 00:18'},\n",
       " {'Highlight': 'Niezadowolenie i dyskomfort są dominującymi stanami mózgu, lecz zamiast się nimi dołować, możemy je wyko',\n",
       "  'Title': 'Nierozpraszalni',\n",
       "  'Author': 'Nir Eyal',\n",
       "  'URL': '',\n",
       "  'Note': 'dominujace stany',\n",
       "  'Location': '34',\n",
       "  'Date': '2023.02.02 00:22'},\n",
       " {'Highlight': 'rzystać do motywowania si',\n",
       "  'Title': 'Nierozpraszalni',\n",
       "  'Author': 'Nir Eyal',\n",
       "  'URL': '',\n",
       "  'Note': 'stać do motywowania się',\n",
       "  'Location': '35',\n",
       "  'Date': '2023.02.02 00:22'},\n",
       " {'Highlight': 'Aby ujarzmić siłę rozżalenia, musimy wyrzec się fałszywego przeświadczenia, że jeśli nie jesteśmy szczęśliwi, to nie jesteśmy normalni — jest dokładnie na odwrót. Ta zmiana w sposobie myślenia może niepokoić, lecz bywa bardzo wyzwalająca',\n",
       "  'Title': 'Nierozpraszalni',\n",
       "  'Author': 'Nir Eyal',\n",
       "  'URL': '',\n",
       "  'Note': 'not happy not normal',\n",
       "  'Location': '35',\n",
       "  'Date': '2023.02.02 00:24'},\n",
       " {'Highlight': 'Zarządzanie czasem to zarządzanie bólem. Dekoncentracja oznacza marnowanie czasu i jak każde działanie jest powodowana chęcią uniknięcia dyskomfortu.Ewolucja przedkładała niezadowolenie nad satysfakcję. Ludzkie skłonności do nudy, negatywnego nastawienia, ruminacji i adaptacji hedonicznej sprawiają, że satysfakcja nigdy nie trwa długo.Niezadowolenie przyczynia się do postępu naszego gatunku, lecz także\\xa0do jego błędów. To wewnętrzna siła, którą możemy wykorzystać do poprawienia swojej sytuacji.Jeśli chcesz zapanować nad dekoncentracją, musisz nauczyć się radzić sobie z dyskomfortem',\n",
       "  'Title': 'Nierozpraszalni',\n",
       "  'Author': 'Nir Eyal',\n",
       "  'URL': '',\n",
       "  'Note': 'zapamietaj 4',\n",
       "  'Location': '35',\n",
       "  'Date': '2023.02.02 00:25'},\n",
       " {'Highlight': 'Rozdział 5. Uporaj się z dekoncentracją od wewnątrzOkazuje się, że mentalna abstynencja może mieć skutki odwrotne do zamierzonych.',\n",
       "  'Title': 'Nierozpraszalni',\n",
       "  'Author': 'Nir Eyal',\n",
       "  'URL': '',\n",
       "  'Note': 'mentalna abstynencja',\n",
       "  'Location': '36',\n",
       "  'Date': '2023.02.02 00:27'},\n",
       " {'Highlight': 'Nieustanne opieranie się zachciankom i\\xa0zakończone poddaniem się roztrząsanie ich w\\xa0myślach umacnia cały cykl i prawdopodobnie napędza wiele szkodliwych zachowań.',\n",
       "  'Title': 'Nierozpraszalni',\n",
       "  'Author': 'Nir Eyal',\n",
       "  'URL': '',\n",
       "  'Note': 'Nie opieraj Się zachciankom',\n",
       "  'Location': '37',\n",
       "  'Date': '2023.02.02 00:32'},\n",
       " {'Highlight': 'Bez technik pozwalających na rozbrojenie pokus mentalna abstynencja może wywołać skutki odwrotne do zamierzonych. Opieranie się ciągotom może skłaniać do ruminacji i tym samym je umacniać.Możemy kontrolować płynące z wnętrza dekoncentrujące pokusy poprzez zmianę sposobu myślenia o nich. Możemy przeformułować bodziec, zadanie i temperament',\n",
       "  'Title': 'Nierozpraszalni',\n",
       "  'Author': 'Nir Eyal',\n",
       "  'URL': '',\n",
       "  'Note': 'zapamietaj 5',\n",
       "  'Location': '38',\n",
       "  'Date': '2023.02.02 00:35'},\n",
       " {'Highlight': 'Krok 2. Zapisz bodziecKrok 1. Zastanów się, jaki dyskomfort poprzedza pokusę, skupiając się na wewnętrznych bodźcach',\n",
       "  'Title': 'Nierozpraszalni',\n",
       "  'Author': 'Nir Eyal',\n",
       "  'URL': '',\n",
       "  'Note': 'jaki dyskomfort prized bodzcem',\n",
       "  'Location': '39',\n",
       "  'Date': '2023.02.02 08:04'},\n",
       " {'Highlight': 'Krok 2. Zapisz bodziec',\n",
       "  'Title': 'Nierozpraszalni',\n",
       "  'Author': 'Nir Eyal',\n",
       "  'URL': '',\n",
       "  'Note': 'zapisz bodziec',\n",
       "  'Location': '39',\n",
       "  'Date': '2023.02.02 08:05'},\n",
       " {'Highlight': 'Krok 4. Uważaj na sytuacje graniczneKrok 3. Przeanalizuj swoje wrażenia',\n",
       "  'Title': 'Nierozpraszalni',\n",
       "  'Author': 'Nir Eyal',\n",
       "  'URL': '',\n",
       "  'Note': 'wrazenia',\n",
       "  'Location': '40',\n",
       "  'Date': '2023.02.02 08:07'},\n",
       " {'Highlight': 'Gdy poczujesz niekomfortowy impuls do zrobienia czegoś, czego wolałbyś nie robić, „wyobraź sobie, że siedzisz obok łagodnie płynącego strumienia. Na jego falach unoszą się liście. Umieść na liściach wszystkie myśli, które przychodzą Ci do głowy. Mogą to być wspomnienia, słowa, zmartwienia lub obrazy. A potem pozwól, by liście popłynęły w dół strumienia i, tańcząc na wodzie, zniknęły w oddali, gdy na nie patrzysz”',\n",
       "  'Title': 'Nierozpraszalni',\n",
       "  'Author': 'Nir Eyal',\n",
       "  'URL': '',\n",
       "  'Note': 'liscie w strumieniu',\n",
       "  'Location': '40',\n",
       "  'Date': '2023.02.02 08:09'},\n",
       " {'Highlight': 'Krok 4. Uważaj na sytuacje graniczne',\n",
       "  'Title': 'Nierozpraszalni',\n",
       "  'Author': 'Nir Eyal',\n",
       "  'URL': '',\n",
       "  'Note': 'sytuacje graniczne',\n",
       "  'Location': '40',\n",
       "  'Date': '2023.02.02 08:10'},\n",
       " {'Highlight': 'Techniką, która wyjątkowo dobrze sprawdziła się u mnie przy unikaniu rozpraszających uwagę pułapek, jest „zasada dziesięciu minut”[3]. Jeśli korci mnie, by uspokoić nerwy, korzystając ze smartfona, a nie przychodzi mi do głowy żaden inny pomysł, mówię, że pozwolę sobie na tę zachciankę, ale nie teraz. Muszę poczekać dziesięć minut',\n",
       "  'Title': 'Nierozpraszalni',\n",
       "  'Author': 'Nir Eyal',\n",
       "  'URL': '',\n",
       "  'Note': 'wait 10 min',\n",
       "  'Location': '41',\n",
       "  'Date': '2023.02.02 08:11'},\n",
       " {'Highlight': 'Jeśli po dziesięciu minutach owego surfowania nadal mamy ochotę na dane działanie, możemy je wykonać, lecz rzadko tak się zdarza. Moment graniczny minął i możemy zrobić to, czego naprawdę chcemy.',\n",
       "  'Title': 'Nierozpraszalni',\n",
       "  'Author': 'Nir Eyal',\n",
       "  'URL': '',\n",
       "  'Note': 'moment graniczny',\n",
       "  'Location': '41',\n",
       "  'Date': '2023.02.02 08:14'},\n",
       " {'Highlight': 'To ciekawe, lecz gdy subtelnie przyglądasz się negatywnym emocjom, mają one tendencje do usuwania się w cień, podczas gdy pozytywne emocje narastają”[6].',\n",
       "  'Title': 'Nierozpraszalni',\n",
       "  'Author': 'Nir Eyal',\n",
       "  'URL': '',\n",
       "  'Note': 'subtelne przygladanie',\n",
       "  'Location': '41',\n",
       "  'Date': '2023.02.02 08:16'},\n",
       " {'Highlight': 'Dzięki zmianie nastawienia do niekomfortowego wewnętrznego bodźca możemy go unieszkodliwić.Krok 1. Przyjrzyj się emocjom, które poprzedzają rozpraszający Cię bodziec.Krok 2. Zapisz ten wewnętrzny bodziec.Krok 3. Przyjrzyj się negatywnym odczuciom z ciekawością zamiast z pogardą.Krok 4. Bądź w dwójnasób czujny w sytuacjach granicznych.',\n",
       "  'Title': 'Nierozpraszalni',\n",
       "  'Author': 'Nir Eyal',\n",
       "  'URL': '',\n",
       "  'Note': 'zapamietaj 6',\n",
       "  'Location': '42',\n",
       "  'Date': '2023.02.02 08:17'},\n",
       " {'Highlight': '\"Frajda i zabawa nie muszą poprawiać samopoczucia wprost',\n",
       "  'Title': ' można potraktować je jak narzędzia, które pozwalają nam się skupić.\"',\n",
       "  'Author': 'Nierozpraszalni',\n",
       "  'URL': 'Nir Eyal',\n",
       "  'Note': '',\n",
       "  'Location': 'frajda pomaga w skupieniu',\n",
       "  'Date': '43'},\n",
       " {'Highlight': 'Te same neuronalne obwody, które uzależniają nas od mediów, pozwalają głębiej angażować się w niezbyt przyjemne sprawy.',\n",
       "  'Title': 'Nierozpraszalni',\n",
       "  'Author': 'Nir Eyal',\n",
       "  'URL': '',\n",
       "  'Note': 'neurony angazowanie',\n",
       "  'Location': '44',\n",
       "  'Date': '2023.02.05 19:48'},\n",
       " {'Highlight': 'ciekawość jest lekarstwem na nudę, a na ciekawość nie ma lekarstwa”',\n",
       "  'Title': 'Nierozpraszalni',\n",
       "  'Author': 'Nir Eyal',\n",
       "  'URL': '',\n",
       "  'Note': 'ciekawosc lekarstwem na nude',\n",
       "  'Location': '45',\n",
       "  'Date': '2023.02.05 19:52'},\n",
       " {'Highlight': 'Zabawa polega na dostrzeganiu w czymś różnorodności, której inni nie zauważają. Na\\xa0przełamywaniu nudy, monotonii i\\xa0odkrywaniu wewnętrznego piękna',\n",
       "  'Title': 'Nierozpraszalni',\n",
       "  'Author': 'Nir Eyal',\n",
       "  'URL': '',\n",
       "  'Note': 'zabawa to roznorodnosc',\n",
       "  'Location': '45',\n",
       "  'Date': '2023.02.05 19:52'},\n",
       " {'Highlight': 'Aby zapanować nad wewnętrznymi bodźcami, możemy zmienić nastawienie do nużącego zadania. Gra i zabawa mogą być narzędziami ułatwiającym skupienie.Zabawa nie musi być przyjemna. Chodzi o to, by ułatwiała koncentrację.Aby uprzyjemnić dowolne zadanie, można wprowadzić w nim pierwiastki celowości i nowości',\n",
       "  'Title': 'Nierozpraszalni',\n",
       "  'Author': 'Nir Eyal',\n",
       "  'URL': '',\n",
       "  'Note': 'zapamietaj 7',\n",
       "  'Location': '45',\n",
       "  'Date': '2023.02.05 19:55'},\n",
       " {'Highlight': 'Jednym z najbardziej rozpowszechnionych aspektów tak zwanej psychologii potocznej jest przekonanie, że możliwości samokontroli są ograniczone — dysponujemy tylko taką siłą woli, na jaką pozwala nasz temperament. Co więcej, według tej teorii podczas zmagań z czymś siła woli może się po prostu zużyć. Psychologowie mają nawet nazwę na to zjawisko: wyczerpanie ego',\n",
       "  'Title': 'Nierozpraszalni',\n",
       "  'Author': 'Nir Eyal',\n",
       "  'URL': '',\n",
       "  'Note': 'wyczerpanie ego',\n",
       "  'Location': '46',\n",
       "  'Date': '2023.02.05 19:59'},\n",
       " {'Highlight': 'Ludzie, którzy nie traktują siły woli jako\\xa0skończonego zasobu, nie przejawiają oznak\\xa0wyczerpania ego.',\n",
       "  'Title': 'Nierozpraszalni',\n",
       "  'Author': 'Nir Eyal',\n",
       "  'URL': '',\n",
       "  'Note': 'sila woli - ego',\n",
       "  'Location': '47',\n",
       "  'Date': '2023.02.05 20:02'},\n",
       " {'Highlight': 'Przekonanie uzależnionego o jego bezsilności było równie istotnym wskaźnikiem powrotu do\\xa0nałogu po terapii jak poziom fizycznego\\xa0uzależnienia',\n",
       "  'Title': 'Nierozpraszalni',\n",
       "  'Author': 'Nir Eyal',\n",
       "  'URL': '',\n",
       "  'Note': 'co myslisz o bezsilnosci',\n",
       "  'Location': '48',\n",
       "  'Date': '2023.02.05 20:08'},\n",
       " {'Highlight': 'Wyrozumiałość względem siebie czyni ludzi\\xa0odporniejszymi na potknięcia, przełamuje\\xa0bowiem błędne koło stresu, który\\xa0zwykle towarzyszy porażkom',\n",
       "  'Title': 'Nierozpraszalni',\n",
       "  'Author': 'Nir Eyal',\n",
       "  'URL': '',\n",
       "  'Note': 'wyrozumialosc',\n",
       "  'Location': '49',\n",
       "  'Date': '2023.02.05 20:14'},\n",
       " {'Highlight': 'Ponieważ wiemy o sobie bardzo wiele, zwykle jesteśmy swoimi najzagorzalszymi krytykami, lecz jeśli będziemy ze sobą rozmawiać jak z kimś bliskim, komu chcemy pomóc, możemy ujrzeć sytuację w prawdziwszym świetle. Powtarzanie sobie rzeczy w rodzaju: „Właśnie tego trzeba, by stać się w czymś lepszym” albo: „Jesteś na dobrej drodze”, to zdrowsze sposoby radzenia sobie ze zwątpieniem',\n",
       "  'Title': 'Nierozpraszalni',\n",
       "  'Author': 'Nir Eyal',\n",
       "  'URL': '',\n",
       "  'Note': 'bliski ktoremu chcemy pomoc',\n",
       "  'Location': '49',\n",
       "  'Date': '2023.02.05 20:19'},\n",
       " {'Highlight': 'Jeśli wierzymy, że nie wystarczy nam silnej woli i samokontroli, to tak się stanie. Uznanie własnej bezsilności wobec pokus jest samospełniającą się przepowiednią. Jeśli powtarzamy sobie, że z natury jesteśmy ułomni, to uwierzymy w każde słowo',\n",
       "  'Title': 'Nierozpraszalni',\n",
       "  'Author': 'Nir Eyal',\n",
       "  'URL': '',\n",
       "  'Note': 'wiara czyni cuda',\n",
       "  'Location': '50',\n",
       "  'Date': '2023.02.05 20:21'},\n",
       " {'Highlight': 'Zmiana nastawienia do temperamentu może ułatwić zapanowanie nad wewnętrznymi bodźcami.Siła woli się nie kończy. Wiara w to zmniejsza prawdopodobieństwo osiągnięcia celu, dostarcza bowiem powodu do poddania się, choć w\\xa0przeciwnym razie moglibyśmy wytrwać.Ważne jest to, co sobie powtarzamy. Przekonanie o niskiej samokontroli jest krzywdzące.Ćwicz wyrozumiałość dla samego siebie. Rozmawiaj ze sobą tak jak z\\xa0przyjacielem. Ludzie bardziej wyrozumiali dla siebie są odporniejsi.',\n",
       "  'Title': 'Nierozpraszalni',\n",
       "  'Author': 'Nir Eyal',\n",
       "  'URL': '',\n",
       "  'Note': 'zapamietaj 8',\n",
       "  'Location': '50',\n",
       "  'Date': '2023.02.05 20:22'},\n",
       " {'Highlight': 'Powiedz mi, jak spędzasz czas, a powiem ci, kim będziesz”',\n",
       "  'Title': 'Nierozpraszalni',\n",
       "  'Author': 'Nir Eyal',\n",
       "  'URL': '',\n",
       "  'Note': 'czas jak spedzasz',\n",
       "  'Location': '52',\n",
       "  'Date': '2023.02.05 20:24'},\n",
       " {'Highlight': 'Skąpcami są w zachowywaniu odziedziczonego majątku, ale są największymi marnotrawcami, jeśli chodzi o stratę czasu, jedynego dobra, wobec którego skąpstwo i chciwość jest cnotą”[2]. Choć słowa Seneki liczą dwa tysiące lat, są dziś równie prawdziwe jak dawniej. Pomyśl, ile zamków, systemów zabezpieczeń i skrytek służy nam do ochrony własności, a jak niewiele robimy, aby chronić swój czas',\n",
       "  'Title': 'Nierozpraszalni',\n",
       "  'Author': 'Nir Eyal',\n",
       "  'URL': '',\n",
       "  'Note': 'chronic swoj czas',\n",
       "  'Location': '52',\n",
       "  'Date': '2023.02.05 20:26'},\n",
       " {'Highlight': 'Nie uda Ci się nazwać bodźca, który odwraca\\xa0Twoją uwagę, jeśli nie będziesz wiedział, od czego Cię ta rzecz odciąga.',\n",
       "  'Title': 'Nierozpraszalni',\n",
       "  'Author': 'Nir Eyal',\n",
       "  'URL': '',\n",
       "  'Note': 'Od czego Się odwracasz',\n",
       "  'Location': '54',\n",
       "  'Date': '2023.02.05 20:32'},\n",
       " {'Highlight': 'Najskuteczniejszy sposób znalezienia czasu na trakcję to tak zwany timeboxing. Technika ta bazuje na dobrze poznanym mechanizmie, który psychologowie nazywają zamiarem lub intencją realizacji (ang. implementation intention)[8]. To wyszukany sposób powiedzenia: „zdecydowałem, co chcę zrobić i kiedyto zrobię”.',\n",
       "  'Title': 'Nierozpraszalni',\n",
       "  'Author': 'Nir Eyal',\n",
       "  'URL': '',\n",
       "  'Note': 'intencja realizacji',\n",
       "  'Location': '55',\n",
       "  'Date': '2023.02.05 20:34'},\n",
       " {'Highlight': 'Dla odmiany zerknięcie do firmowej skrzynki e-mailowej — zadanie pozornie produktywne — będzie odwróceniem uwagi, jeśli zrobisz to w czasie przeznaczonym na przebywanie z rodziną albo pracę nad prezentacją',\n",
       "  'Title': 'Nierozpraszalni',\n",
       "  'Author': 'Nir Eyal',\n",
       "  'URL': '',\n",
       "  'Note': 'pozorna produktywnosc',\n",
       "  'Location': '55',\n",
       "  'Date': '2023.02.05 20:35'},\n",
       " {'Highlight': 'Pusty szablon znajdziesz w dodatkuna końcu książki oraz na stronie internetowej pod adresem ftp://ftp.helion.pl/przyklady/nieroz.zip',\n",
       "  'Title': 'Nierozpraszalni',\n",
       "  'Author': 'Nir Eyal',\n",
       "  'URL': '',\n",
       "  'Note': 'szablon kalendarz',\n",
       "  'Location': '55',\n",
       "  'Date': '2023.02.05 20:37'},\n",
       " {'Highlight': 'Nie będziesz umiał nazwać bodźca, który odwraca Twoją uwagę, jeśli nie będziesz wiedział, od czego Cię ta rzecz odciąga. Bez planowania nie da się odróżnić trakcji od atrakcji.Czy harmonogram w kalendarzu odzwierciedla Twoje wartości? Aby zostać człowiekiem, którym chcesz być, musisz mieć czas na życie zgodne ze swoimi wartościami.Planuj dni. Trzy życiowe dziedziny — Ty, relacje i praca — stanowią ramy, zgodnie z którymi powinieneś planować sposób wykorzystania czasu.Analizuj i koryguj. Regularnie udoskonalaj harmonogram, lecz gdy już go ustalisz, trzymaj się go',\n",
       "  'Title': 'Nierozpraszalni',\n",
       "  'Author': 'Nir Eyal',\n",
       "  'URL': '',\n",
       "  'Note': 'zapamietaj 9',\n",
       "  'Location': '57',\n",
       "  'Date': '2023.02.05 20:43'},\n",
       " {'Highlight': 'Rozdział 10. Kontroluj starania, nie rezultatyDbanie o siebie jest fundamentem wszystkich trzech dziedzin, bo dwie pozostałe zależą od Twojego zdrowia i samopoczucia. Jeśli nie zajmiesz się sobą, ucierpią na tym Twoje relacje. Na tej samej zasadzie nie będziesz wydajny w pracy, jeśli nie dasz sobie czasu potrzebnego na zatroszczenie się o fizyczny i psychiczny dobrostan',\n",
       "  'Title': 'Nierozpraszalni',\n",
       "  'Author': 'Nir Eyal',\n",
       "  'URL': '',\n",
       "  'Note': 'dbanie o siebie',\n",
       "  'Location': '59',\n",
       "  'Date': '2023.02.05 20:48'},\n",
       " {'Highlight': 'Otóż jeśli chodzi o nasz czas, powinniśmy przestać się zamartwiać rezultatami, na które nie mamy wpływu, a zamiast tego skupić się na możliwych w danej sytuacji staraniach. Jeśli chodzi o pozytywne skutki przeznaczania na coś czasu, możemy jedynie mieć nadzieję, a nie pewność.Jedyną rzeczą, o jakiej decydujemy, jest czas, jaki\\xa0przeznaczamy na jakieś zadanie',\n",
       "  'Title': 'Nierozpraszalni',\n",
       "  'Author': 'Nir Eyal',\n",
       "  'URL': '',\n",
       "  'Note': 'starania a nie rezultaty',\n",
       "  'Location': '60',\n",
       "  'Date': '2023.02.05 20:52'},\n",
       " {'Highlight': 'Najpierw zarezerwuj czas dla siebie. Jesteś w centrum trzech dziedzin życia. Jeśli nie wygospodarujesz dla siebie czasu, dwie pozostałe dziedziny na tym ucierpią.Staraj się robić rzeczy, które sobie zaplanowałeś. Nie zawsze w pełni panujemy nad rezul',\n",
       "  'Title': 'Nierozpraszalni',\n",
       "  'Author': 'Nir Eyal',\n",
       "  'URL': '',\n",
       "  'Note': 'zapamietaj 10.1',\n",
       "  'Location': '60',\n",
       "  'Date': '2023.02.05 20:54'},\n",
       " {'Highlight': 'tatami przeznaczonego na coś czasu, decydujemy jednak o tym, ile włożymy go w dane zadanie.Starania są czymś znacznie pewniejszym niż efekty. Mając na celu życie, na jakim Ci zależy, powinieneś przede wszystkim wygospodarowywać czas na postępowanie zgodne z własnymi wartościami.',\n",
       "  'Title': 'Nierozpraszalni',\n",
       "  'Author': 'Nir Eyal',\n",
       "  'URL': '',\n",
       "  'Note': 'zapamietaj 10.2',\n",
       "  'Location': '61',\n",
       "  'Date': '2023.02.05 20:55'},\n",
       " {'Highlight': 'Rozdział 11. Zaplanuj czas na ważne relacjeNajbliżsi nie powinni zadowalać się resztkami naszego czasu. Wygospodarowanie go na życie zgodne z własnymi wartościami i realizację wspólnych zadań przynosi korzyści wszystkim',\n",
       "  'Title': 'Nierozpraszalni',\n",
       "  'Author': 'Nir Eyal',\n",
       "  'URL': '',\n",
       "  'Note': 'czas na zycie z wartosciami',\n",
       "  'Location': '65',\n",
       "  'Date': '2023.02.05 23:37'},\n",
       " {'Highlight': 'Ustalenie tematu pomaga nam w dwójnasób. Po pierwsze pozwala pominąć prozaiczne rozmowy o sporcie i pogodzie i daje sposobność do otwartego przedyskutowania naprawdę istotnych spraw, po drugie zaś zapobiega podziałowi, do którego często dochodzi podczas spotkań w parach — mężczyźni w jednym kącie, kobiety w drugim. Temat dnia umożliwia wspólną konwersację',\n",
       "  'Title': 'Nierozpraszalni',\n",
       "  'Author': 'Nir Eyal',\n",
       "  'URL': '',\n",
       "  'Note': 'spotkanie z tematem',\n",
       "  'Location': '66',\n",
       "  'Date': '2023.02.05 23:42'},\n",
       " {'Highlight': 'dla Ciebie ważny, regularnie znajduj dla niego czas w kalendarzu.Nie ograniczaj się do wyznaczenia w kalendarzu dni randek ze swoją drugą połową.Uwzględnij w harmonogramie także obowiązki domowe, aby\\xa0je równo podzielić.Brak przyjaźni może być niebezpieczny dla zdrowia. Dbaj o najważniejsze relacje, znajdując czas na regularne spotkania',\n",
       "  'Title': 'Nierozpraszalni',\n",
       "  'Author': 'Nir Eyal',\n",
       "  'URL': '',\n",
       "  'Note': 'zapamietaj 11 czas dla waznych',\n",
       "  'Location': '67',\n",
       "  'Date': '2023.02.05 23:45'},\n",
       " {'Highlight': 'Rozdział 12. Uzgodnij grafik ze współpracownikamiWprowadzenie szczegółowego harmonogramu pracy pomaga w pogłębieniu fundamentalnego zaufania między pracodawcą a pracownikami.',\n",
       "  'Title': 'Nierozpraszalni',\n",
       "  'Author': 'Nir Eyal',\n",
       "  'URL': '',\n",
       "  'Note': 'harmonogram jako zaufanie',\n",
       "  'Location': '70',\n",
       "  'Date': '2023.02.05 23:55'},\n",
       " {'Highlight': 'znajdowania czasu na trakcję. Jeśli Twoi współpracownicy albo przełożeni nie wiedzą, na co przeznaczasz czas, są\\xa0bardziej skłonni zawracać Ci głowę nieistotnymi zadaniami.Uzgadniaj plany tak często, jak często się one zmieniają. Jeżeli Twój harmonogram zmienia się z dnia na dzień, konsultuj go codziennie. Większości ludzi wystarcza jednak uzgadnianie go raz w tygodniu.',\n",
       "  'Title': 'Nierozpraszalni',\n",
       "  'Author': 'Nir Eyal',\n",
       "  'URL': '',\n",
       "  'Note': 'zapamietaj 12',\n",
       "  'Location': '73',\n",
       "  'Date': '2023.02.06 00:04'},\n",
       " {'Highlight': 'Rozdział 13. Zadaj fundamentalne pytanieObecnie większość zmagań z dekoncentracją to\\xa0w\\xa0istocie zmagania z zewnętrznymi bodźcami.',\n",
       "  'Title': 'Nierozpraszalni',\n",
       "  'Author': 'Nir Eyal',\n",
       "  'URL': '',\n",
       "  'Note': 'bodzce zewnetrzne',\n",
       "  'Location': '77',\n",
       "  'Date': '2023.02.06 17:48'},\n",
       " {'Highlight': 'Zewnętrzne bodźce często są dekoncentrujące. Sygnały płynące z otoczenia, takie jak dzwonki czy brzęczyki, a także przerwy wynikające z działań podejmowanych przez innych ludzi, często skłaniają nas do zboczenia z\\xa0obranego kursu.Zewnętrzne bodźce nie zawsze są szkodliwe. Jeśli taki bodziec pomaga zyskać trakcję, to znaczy, że jest korzystny.Musimy zadawać sobie następujące pytanie: „Czy dany bodziec mi służy, czy to ja służę jemu?”. Na tej podstawie można zablokować zewnętrzne bodźce, które nam nie sprzyjają',\n",
       "  'Title': 'Nierozpraszalni',\n",
       "  'Author': 'Nir Eyal',\n",
       "  'URL': '',\n",
       "  'Note': 'zapaamietaj 12',\n",
       "  'Location': '79',\n",
       "  'Date': '2023.02.06 17:55'},\n",
       " {'Highlight': 'Rozdział 14. Nie daj się przerwom w pracyDekoncentracja prowadzi do błędów. Jeśli będziesz się często rozpraszał, nie wykonasz pracy najlepiej, jak umiesz.Otwarte przestrzenie biurowe sprzyjają rozkojarzeniu.Broń swoich chwil skupienia. Komunikuj, że nie chcesz, aby Ci przeszkadzano. Umieść tabliczkę na monitorze albo daj inny wyraźny sygnał, który poinformuje ludzi, że jesteś nierozpraszalny',\n",
       "  'Title': 'Nierozpraszalni',\n",
       "  'Author': 'Nir Eyal',\n",
       "  'URL': '',\n",
       "  'Note': 'zapamietaj 13',\n",
       "  'Location': '84',\n",
       "  'Date': '2023.02.06 18:11'},\n",
       " {'Highlight': 'Ustanów godziny otwarcia biuraBędziesz zdumiony, ile rzeczy staje się nieistotnych, gdy na pewien czas pozostawisz\\xa0je\\xa0swojemu losowi',\n",
       "  'Title': 'Nierozpraszalni',\n",
       "  'Author': 'Nir Eyal',\n",
       "  'URL': '',\n",
       "  'Note': 'czas a nieistotnosc',\n",
       "  'Location': '87',\n",
       "  'Date': '2023.02.06 18:20'},\n",
       " {'Highlight': 'Do dwóch razy sztukaPrzeanalizuj problem. Łączny czas spędzony nad e-mailami (T) jest funkcją liczby otrzymanych wiadomości (n) i średniego czasu (t) przeznaczonego na\\xa0każdą z nich: T = n·t.Zmniejsz liczbę otrzymywanych wiadomości. Ustal „godziny otwarcia biura”, opóźniaj odsyłanie odpowiedzi i wyeliminuj ze skrzynki pocztowej te\\xa0komunikaty, które tylko marnują Ci czas.Ogranicz czas przeznaczany na każdą wiadomość. Oznacz e-maile zgodnie z tym, kiedy należy na nie odpisać. Odpisuj zaś w porze specjalnie przeznaczonej na ten cel w kalendarzu',\n",
       "  'Title': 'Nierozpraszalni',\n",
       "  'Author': 'Nir Eyal',\n",
       "  'URL': '',\n",
       "  'Note': 'zapaamietaj 14',\n",
       "  'Location': '91',\n",
       "  'Date': '2023.02.06 18:30'},\n",
       " {'Highlight': 'Reguła 4. Korzystaj wybiórczoZ narzędzi do komunikacji natychmiastowej należy korzystać z umiarem. Dyskusja nie powinna odbywać się kosztem czasu przeznaczonego na\\xa0skupienie.Ważna jest kultura firmy. Zmiana zwyczajów dotyczących czatów może\\xa0wymagać zakwestionowania obowiązującego w firmie status quo. To\\xa0zagadnienie zostało omówione w części piątej.Różne kanały komunikacji mają odmienne zastosowania. Zamiast równolegle korzystać ze wszystkich dostępnych narzędzi, używaj tych, które\\xa0najlepiej nadają się do danego celu.Wchodź i wychodź. Czat grupowy może znakomicie zastąpić spotkania osobiste, lecz jeśli trwa cały dzień, przemienia się w katastrofę',\n",
       "  'Title': 'Nierozpraszalni',\n",
       "  'Author': 'Nir Eyal',\n",
       "  'URL': '',\n",
       "  'Note': 'zapamietaj 15',\n",
       "  'Location': '94',\n",
       "  'Date': '2023.02.06 18:43'},\n",
       " {'Highlight': 'Rozdział 17. Nie daj się spotkaniomJeśli zamierzamy przeznaczyć czas na spotkanie, powinniśmy zadbać o to, abyśmy byli na nim obecni duchem i ciałem.',\n",
       "  'Title': 'Nierozpraszalni',\n",
       "  'Author': 'Nir Eyal',\n",
       "  'URL': '',\n",
       "  'Note': 'cialem I duchem',\n",
       "  'Location': '96',\n",
       "  'Date': '2023.02.06 18:52'},\n",
       " {'Highlight': 'Na zebraniach może panować bardzo napięta atmosfera, niezręczne układy międzyludzkie lub nuda — urządzenia są sposobem na odcięcie się od tych niekomfortowych, zewnętrznych bodźców',\n",
       "  'Title': 'Nierozpraszalni',\n",
       "  'Author': 'Nir Eyal',\n",
       "  'URL': '',\n",
       "  'Note': 'elektronika jako ucieczka',\n",
       "  'Location': '97',\n",
       "  'Date': '2023.02.06 18:55'},\n",
       " {'Highlight': 'Utrudnij zwoływanie spotkań. Aby zwołać spotkanie, organizator powinien najpierw przedstawić porządek obrad i streszczenie tematyki.Spotkania służą do wypracowywania konsensusu. Poza kilkoma wyjątkami kreatywnym rozwiązywaniem problemów należy się zająć przed zebraniem, indywidualnie lub w bardzo małych grupach.Bądź w pełni zaangażowany. Ludzie używają urządzeń, aby uciec przed monotonią i nudą spotkań, a to dodatkowo umniejsza wszelki sens zbierania się.Na spotkaniu powinien być jeden laptop. Użytkowanie urządzeń przez wszystkich dyskutantów utrudnia zrealizowanie celu spotkania. Z wyjątkiem jednego laptopa, służącego do wyświetlania informacji i sporządzania notatek, całą elektronikę warto zostawić za drzwiami sali konferencyjnej',\n",
       "  'Title': 'Nierozpraszalni',\n",
       "  'Author': 'Nir Eyal',\n",
       "  'URL': '',\n",
       "  'Note': 'zapamietaj 16',\n",
       "  'Location': '97',\n",
       "  'Date': '2023.02.06 18:58'},\n",
       " {'Highlight': 'Krok 4. Przejmij kontrolęWystarczą cztery kroki i mniej niż godzina, by nie dać się zewnętrznym bodźcom płynącym z telefonu.Usuń. Odinstaluj aplikacje, których już nie potrzebujesz.Zastąp. Wprowadź zmiany dotyczące pory i miejsca użytkowania potencjalnie dekoncentrujących aplikacji, takich jak media społecznościowe i YouTube. Możesz posługiwać się ',\n",
       "  'Title': 'Nierozpraszalni',\n",
       "  'Author': 'Nir Eyal',\n",
       "  'URL': '',\n",
       "  'Note': 'zapamietaj 17.1',\n",
       "  'Location': '103',\n",
       "  'Date': '2023.02.09 00:55'},\n",
       " {'Highlight': 'nimi na komputerze stacjonarnym zamiast na telefonie. Kup sobie zegarek, aby nie sprawdzać godziny na smartfonie.Wprowadź nowe porządki. Usuń z ekranu głównego urządzenia aplikacje, które mogą Cię skłaniać do bezmyślnego „stukania”.Przejmij kontrolę. Zmień ustawienia powiadomień dla każdej aplikacji. Znacznie ogranicz liczbę programów, które mogą wysyłać komunikaty wizualne i dźwiękowe. Naucz się posługiwać ustawieniami trybów „nie\\xa0przeszkadzać” telefonu',\n",
       "  'Title': 'Nierozpraszalni',\n",
       "  'Author': 'Nir Eyal',\n",
       "  'URL': '',\n",
       "  'Note': 'zapamietaj 17.2',\n",
       "  'Location': '104',\n",
       "  'Date': '2023.02.09 00:56'},\n",
       " {'Highlight': 'Rozdział 19. Nie daj się pulpitowi(„Nierozpraszalną” tapetę możesz pobrać ze strony NirAndFar.com/Indistractable)',\n",
       "  'Title': 'Nierozpraszalni',\n",
       "  'Author': 'Nir Eyal',\n",
       "  'URL': '',\n",
       "  'Note': 'tapeta nierozpraszalni',\n",
       "  'Location': '107',\n",
       "  'Date': '2023.02.09 01:03'},\n",
       " {'Highlight': 'Bałagan na pulpicie ma poważne konsekwencje dla psychiki i\\xa0dekoncentruje. Usunięcie zewnętrznych bodźców z cyfrowej przestrzeni pomoże Ci się skupić.Wyłącz powiadomienia wyświetlane na pulpicie. Wyłączenie powiadomień na komputerze gwarantuje, że podczas pracy wymagającej skupienia nie rozproszą Cię zewnętrzne bodźce.',\n",
       "  'Title': 'Nierozpraszalni',\n",
       "  'Author': 'Nir Eyal',\n",
       "  'URL': '',\n",
       "  'Note': 'zapamietaj 18',\n",
       "  'Location': '109',\n",
       "  'Date': '2023.02.09 01:05'},\n",
       " {'Highlight': 'Rozdział 20. Nie daj się artykułom onlineTechnika zastosowana przez Milkman jest nazywana łączeniem pokus (ang. temptation bundling) i można ją stosować, ilekroć zależy nam na tym, by wykorzystać nagrodę związaną z jakimś zachowaniem do podejmowania innych działań. W moim przypadku artykuły zapisywane w aplikacji Pocket są nagrodami za ćwiczenia.',\n",
       "  'Title': 'Nierozpraszalni',\n",
       "  'Author': 'Nir Eyal',\n",
       "  'URL': '',\n",
       "  'Note': 'laczenie pokus',\n",
       "  'Location': '113',\n",
       "  'Date': '2023.02.09 01:18'},\n",
       " {'Highlight': 'Artykuły online są pełne potencjalnie dekoncentrujących, zewnętrznych bodźców. Otwarte zakładki mogą nas wytrącić z kursu i mają tendencje do\\xa0wciągania w wir czasochłonnej lektury.Stwórz zasadę. Obiecaj sobie, że zapiszesz ciekawe artykuły na później za\\xa0pomocą aplikacji takiej jak Pocket.Niespodzianka! Możesz robić kilka rzeczy naraz. Dzięki wielokanałowej wielozadaniowości da się słuchać artykułów podczas treningu lub urządzać zebrania na spacerze.',\n",
       "  'Title': 'Nierozpraszalni',\n",
       "  'Author': 'Nir Eyal',\n",
       "  'URL': '',\n",
       "  'Note': 'zapamietaj 19',\n",
       "  'Location': '113',\n",
       "  'Date': '2023.02.09 01:21'},\n",
       " {'Highlight': 'Rozdział 21. Nie daj się kanałom informacyjnymDarmowe rozszerzenie przeglądarki o nazwie News Feed Eradicator for Facebook robi dokładnie to, na co wskazuje jego nazwa: eliminuje źródło niezliczonych, kuszących zewnętrznych bodźców i zastępuje je inspirującym cytatem[1].',\n",
       "  'Title': 'Nierozpraszalni',\n",
       "  'Author': 'Nir Eyal',\n",
       "  'URL': '',\n",
       "  'Note': 'news feed eradicator',\n",
       "  'Location': '114',\n",
       "  'Date': '2023.02.11 23:52'},\n",
       " {'Highlight': '(Odsyłacze do moich narzędzi służących do walki z dekoncentrującymi bodźcami znajdziesz na stronie NirAndFar.com/ Indistractable).',\n",
       "  'Title': 'Nierozpraszalni',\n",
       "  'Author': 'Nir Eyal',\n",
       "  'URL': '',\n",
       "  'Note': 'narzedzia do koncentracji',\n",
       "  'Location': '114',\n",
       "  'Date': '2023.02.11 23:54'},\n",
       " {'Highlight': 'Dzięki unikaniu kanałów informacyjnych zyskujemy większą szansę na przemyślane posługiwanie się serwisami społecznościowymi, a\\xa0zarazem dajemy sobie czas na aktywny kontakt z ludźmi',\n",
       "  'Title': 'Nierozpraszalni',\n",
       "  'Author': 'Nir Eyal',\n",
       "  'URL': '',\n",
       "  'Note': 'aktywny kontakt',\n",
       "  'Location': '116',\n",
       "  'Date': '2023.02.11 23:57'},\n",
       " {'Highlight': 'Możesz „zhakować” YouTube’a poprzez usunięciedekoncentrujących miniatur filmów i reklam',\n",
       "  'Title': 'Nierozpraszalni',\n",
       "  'Author': 'Nir Eyal',\n",
       "  'URL': '',\n",
       "  'Note': 'DFTube',\n",
       "  'Location': '117',\n",
       "  'Date': '2023.02.12 00:01'},\n",
       " {'Highlight': 'Tablice — strumienie informacji, które przewijamy w mediach społecznościowych — zostały zaprojektowane tak, by pochłaniały naszą uwagę. Są pełne zewnętrznych bodźców, które mogą nas dekoncentrować.Nie daj się tablicom i przejmij nad nimi kontrolę. Używaj rozszerzeń przeglądarek, takich jak News Feed Eradicator for Facebook, Newsfeed Burner, Open Multiple Websites czy DF Tube, aby usunąć rozpraszające, zewnętrzne bodźce. (Odsyłacze do wszystkich tych usług i nie tylko znajdziesz na stronie NirAndFar.com/Indistractable).',\n",
       "  'Title': 'Nierozpraszalni',\n",
       "  'Author': 'Nir Eyal',\n",
       "  'URL': '',\n",
       "  'Note': 'zapamietaj 20',\n",
       "  'Location': '117',\n",
       "  'Date': '2023.02.12 00:01'},\n",
       " {'Highlight': 'trwale zablokował port sieci Ethernet. „Rozwiązanie polegało na włożeniu do gniazda wtyczki Ethernet posmarowanej superglue i odpiłowaniu jej główki” — tłumaczy',\n",
       "  'Title': 'Nierozpraszalni',\n",
       "  'Author': 'Nir Eyal',\n",
       "  'URL': '',\n",
       "  'Note': 'glue ethernet',\n",
       "  'Location': '119',\n",
       "  'Date': '2023.02.12 11:18'},\n",
       " {'Highlight': 'Ci wybitni twórcy rozumieją, że koncentracja wymaga nie tylko wyłączenia sięna dekoncentrujące bodźce, lecz także włączenia się do działania',\n",
       "  'Title': 'Nierozpraszalni',\n",
       "  'Author': 'Nir Eyal',\n",
       "  'URL': '',\n",
       "  'Note': 'wylacz bodzce wlacz dzialanie',\n",
       "  'Location': '119',\n",
       "  'Date': '2023.02.12 11:21'},\n",
       " {'Highlight': 'Takie przyrzeczenia są skuteczne, bo umacniają deklaracje złożone w\\xa0chwilach jasności umysłu i zmniejszają ryzyko postępowania wbrew własnym interesom. Na tej samej zasadzie, na jakiej podejmujemy zobowiązania w innych dziedzinach życia, możemy je zastosować jako kontrofensywę przeciwko dekoncentracji.',\n",
       "  'Title': 'Nierozpraszalni',\n",
       "  'Author': 'Nir Eyal',\n",
       "  'URL': '',\n",
       "  'Note': 'decyzje wczasie jasnosci',\n",
       "  'Location': '121',\n",
       "  'Date': '2023.02.12 11:26'},\n",
       " {'Highlight': 'Bycie nierozpraszalnym polega nie tylko na wyłączeniu się na dekoncentrujące bodźce.Wymaga ono także włączenia się do działania.Zobowiązania mogą zmniejszyć ryzyko dekoncentracji. Ułatwiają one postępowanie zgodnie z powziętymi z góry decyzjami.Zobowiązania należy podejmować dopiero po zastosowaniu trzech poprzednich strategii bycia nierozpraszalnym. Nie pomijaj trzech pierwszych kroków',\n",
       "  'Title': 'Nierozpraszalni',\n",
       "  'Author': 'Nir Eyal',\n",
       "  'URL': '',\n",
       "  'Note': 'zapamietaj 21',\n",
       "  'Location': '121',\n",
       "  'Date': '2023.02.12 11:29'},\n",
       " {'Highlight': 'Rozdział 23. Zapobiegaj dekoncentracji za pomocą paktów starańKSafe jest praktycznym przykładem zobowiązania. Konkretnie zaś ilustruje on przydatność paktu starań — deklaracji, która polega na obciążeniu niepożądanego działania dodatkowym wysiłkiem. Tego typu deklaracje mogą nam pomóc w osiągnięciu nierozpraszalności',\n",
       "  'Title': 'Nierozpraszalni',\n",
       "  'Author': 'Nir Eyal',\n",
       "  'URL': '',\n",
       "  'Note': 'wysilek na niepozadane dzialania',\n",
       "  'Location': '122',\n",
       "  'Date': '2023.02.12 11:34'},\n",
       " {'Highlight': 'Pakt starań pozwala zapobiec dekoncentracji poprzez utrudnienie niepożądanych zachowań',\n",
       "  'Title': 'Nierozpraszalni',\n",
       "  'Author': 'Nir Eyal',\n",
       "  'URL': '',\n",
       "  'Note': 'utrudnianie',\n",
       "  'Location': '122',\n",
       "  'Date': '2023.02.12 11:35'},\n",
       " {'Highlight': 'SelfControl, która blokuje mi dostęp do wielu dekoncentrujących stron internetowych',\n",
       "  'Title': 'Nierozpraszalni',\n",
       "  'Author': 'Nir Eyal',\n",
       "  'URL': '',\n",
       "  'Note': 'aplikacja blokujaca www',\n",
       "  'Location': '122',\n",
       "  'Date': '2023.02.12 11:36'},\n",
       " {'Highlight': 'Forest',\n",
       "  'Title': 'Nierozpraszalni',\n",
       "  'Author': 'Nir Eyal',\n",
       "  'URL': '',\n",
       "  'Note': 'aplikacja drzewko',\n",
       "  'Location': '123',\n",
       "  'Date': '2023.02.12 11:37'},\n",
       " {'Highlight': 'Ponieważ przez większość poranków siedzimy przy sąsiednich biurkach w moim domowym biurze, ustaliliśmy, że będziemy pracować w krótkich „sprintach”, które trwają czterdzieści pięć minut. Widząc go zapracowanego — zwłaszcza w porach, gdy sam powinienem się zajmować ważnymi sprawami — i\\xa0wiedząc o tym, że on mnie widzi, staram się w dwójnasób. Ustalenie z przyjacielem czasu na wspólną, wymagającą skupienia pracę okazało się skutecznym sposobem na zobowiązanie się do zrobienia tego, co najistotniejsze.',\n",
       "  'Title': 'Nierozpraszalni',\n",
       "  'Author': 'Nir Eyal',\n",
       "  'URL': '',\n",
       "  'Note': 'wspolne 45min sprinty',\n",
       "  'Location': '125',\n",
       "  'Date': '2023.02.12 11:41'},\n",
       " {'Highlight': 'Focusmate.com',\n",
       "  'Title': 'Nierozpraszalni',\n",
       "  'Author': 'Nir Eyal',\n",
       "  'URL': '',\n",
       "  'Note': 'strona do wspolnego skupienia',\n",
       "  'Location': '125',\n",
       "  'Date': '2023.02.12 11:42'},\n",
       " {'Highlight': 'Pakt starań zapobiega dekoncentracji poprzez utrudnienie niepożądanych zachowań.W epoce komputerów osobistych presja społeczna na realizowanie swoich zadań w pracy w dużej mierze zniknęła. Nikt nie widzi, czym się w danej chwili zajmujesz, łatwiej jest więc się obijać. Wspólna praca z kolegą lub przyjacielem przez określony czas może być bardzo skutecznym paktem starań.Możesz ograniczyć korzystanie z technologii za pomocą… technologii. Programy takie jak SelfControl, Forest i Focusmate ułatwiają zawieranie paktów starań',\n",
       "  'Title': 'Nierozpraszalni',\n",
       "  'Author': 'Nir Eyal',\n",
       "  'URL': '',\n",
       "  'Note': 'zapamietaj 22',\n",
       "  'Location': '126',\n",
       "  'Date': '2023.02.12 11:43'},\n",
       " {'Highlight': 'Rozdział 24. Zapobiegaj dekoncentracji za pomocą paktów kosztówW ramach wyjaśnienia wyników jeden z autorów eksperymentu napisał, że „ludzie zwykle są bardziej skłonni do unikania strat niż do osiągania zysków”. Fiasko boli bardziej, niż cieszy wygrana. Ta irracjonalna skłonność, nazywana „awersją do strat”, jest fundamentem ekonomii behawioralnej.',\n",
       "  'Title': 'Nierozpraszalni',\n",
       "  'Author': 'Nir Eyal',\n",
       "  'URL': '',\n",
       "  'Note': 'awersja do strat',\n",
       "  'Location': '128',\n",
       "  'Date': '2023.02.12 11:46'},\n",
       " {'Highlight': 'Po zarezerwowaniu czasu w grafiku przykleiłem taśmą klejącą do ściany pachnącą nowością studolarówkę — tuż przy kalendarzu, obok daty następnego treningu. Następnie za 99 centów kupiłem zapalniczkę i położyłem ją nieopodal banknotu. Codziennie miałem prosty wybór: albo będę spalał kalorie na treningach, albo spalę studolarówkę',\n",
       "  'Title': 'Nierozpraszalni',\n",
       "  'Author': 'Nir Eyal',\n",
       "  'URL': '',\n",
       "  'Note': 'palenie dolarow',\n",
       "  'Location': '128',\n",
       "  'Date': '2023.02.12 11:48'},\n",
       " {'Highlight': 'Pułapka 1. Pakty kosztów nie nadają się do zmieniania zachowań wywoływanych przez niedające się uniknąć, zewnętrzne bodźcePułapka 1. Pakty kosztów nie nadają się do zmieniania zachowań wywoływanych przez niedające się uniknąć, zewnętrzne bodźce',\n",
       "  'Title': 'Nierozpraszalni',\n",
       "  'Author': 'Nir Eyal',\n",
       "  'URL': '',\n",
       "  'Note': 'pakty nie dla bodzcow zewnetrznych',\n",
       "  'Location': '130',\n",
       "  'Date': '2023.02.12 11:52'},\n",
       " {'Highlight': 'Pułapka 4. Pakty kosztów nie sprawdzają się u bardzo samokrytycznych osóbPułapka 2. Pakty kosztów powinny być stosowane wyłącznie w przypadku krótkich zadań',\n",
       "  'Title': 'Nierozpraszalni',\n",
       "  'Author': 'Nir Eyal',\n",
       "  'URL': '',\n",
       "  'Note': 'pakty a Krotkie zadania',\n",
       "  'Location': '131',\n",
       "  'Date': '2023.02.12 11:54'},\n",
       " {'Highlight': 'Pułapka 3. Zawarcie paktu kosztów budzi\\xa0lęk',\n",
       "  'Title': 'Nierozpraszalni',\n",
       "  'Author': 'Nir Eyal',\n",
       "  'URL': '',\n",
       "  'Note': 'badz swiadom leku',\n",
       "  'Location': '131',\n",
       "  'Date': '2023.02.12 11:55'},\n",
       " {'Highlight': 'Pułapka 4. Pakty kosztów nie sprawdzają się u\\xa0bardzo samokrytycznych osób',\n",
       "  'Title': 'Nierozpraszalni',\n",
       "  'Author': 'Nir Eyal',\n",
       "  'URL': '',\n",
       "  'Note': 'uwazaj z samokrytyka',\n",
       "  'Location': '131',\n",
       "  'Date': '2023.02.12 12:00'},\n",
       " {'Highlight': 'Pakt kosztów polega na wyznaczeniu pewnej ceny za niekonsekwencję. Udowodniono, że stanowi to bardzo skuteczną motywację.Pakty kosztów są najbardziej efektywne wtedy, gdy możesz wyeliminować zewnętrzne bodźce, które Cię dekoncentrują.Pakty kosztów działają najlepiej w przypadku przejściowej dekoncentracji.Czasami trudno jest zawrzeć pakt kosztów. Mamy przed nimi opory, bo\\xa0wiemy, że będziemy musieli zrobić to, czego się obawiamy.Przed zawarciem paktu kosztów naucz się wyrozumiałości dla samego siebie',\n",
       "  'Title': 'Nierozpraszalni',\n",
       "  'Author': 'Nir Eyal',\n",
       "  'URL': '',\n",
       "  'Note': 'zapamietaj 23',\n",
       "  'Location': '132',\n",
       "  'Date': '2023.02.12 11:59'},\n",
       " {'Highlight': 'Tożsamość jest kognitywnym skrótem, który pomaga mózgowi w podejmowaniu trudnych wyborów, a tym samym upraszcza proces decyzyjny.Postrzeganie samego siebie rzutuje na to, co\\xa0robimy',\n",
       "  'Title': 'Nierozpraszalni',\n",
       "  'Author': 'Nir Eyal',\n",
       "  'URL': '',\n",
       "  'Note': 'to Kim Się czujemy to robimy',\n",
       "  'Location': '134',\n",
       "  'Date': '2023.02.14 22:23'},\n",
       " {'Highlight': 'Autorzy badania przypisali różnicę „efektowi wzmocnienia psychologicznego” związanego z mówieniem „nie robię [tego]” zamiast „nie mogę [tego zrobić]”. Rezultaty były podobne do tych z eksperymentu z głosowaniem: „nie mogę” ma związek z konkretnym zachowaniem, a „nie robię” mówi coś więcej o danym człowieku.',\n",
       "  'Title': 'Nierozpraszalni',\n",
       "  'Author': 'Nir Eyal',\n",
       "  'URL': '',\n",
       "  'Note': 'zachowanie a tozsamosc',\n",
       "  'Location': '134',\n",
       "  'Date': '2023.02.14 22:27'},\n",
       " {'Highlight': 'Aby wykorzystać potęgę tożsamości w walce z dekoncentracją, możemy zawrzeć coś, co nazywam paktem tożsamości. Jest to zobowiązanie do postępowania zgodnego z określonym wizerunkiem samego siebie, który pomaga nam w realizowaniu tego, czego naprawdę chcemy',\n",
       "  'Title': 'Nierozpraszalni',\n",
       "  'Author': 'Nir Eyal',\n",
       "  'URL': '',\n",
       "  'Note': 'pakt tozsamosci',\n",
       "  'Location': '134',\n",
       "  'Date': '2023.02.14 22:28'},\n",
       " {'Highlight': 'Mimo to dla ortodoksów obrzędy te są czymś, co po prostu się robi, niezawodnie i bez namysłu. A może dałoby się z podobnym poświęceniem podchodzić do trudnych zadań? Wyobraź sobie, że masz hart ducha pozwalający skupić się na tym, czego chcesz, z subordynacją człowieka głęboko wierzącego.Nowe badania sugerują, że świeckie rytuały w miejscu pracy i życiu osobistym mogą być niezwykle skuteczne',\n",
       "  'Title': 'Nierozpraszalni',\n",
       "  'Author': 'Nir Eyal',\n",
       "  'URL': '',\n",
       "  'Note': 'obrzedy w pracy',\n",
       "  'Location': '136',\n",
       "  'Date': '2023.02.14 22:34'},\n",
       " {'Highlight': 'Im lepiej trzymamy się planów, tym bardziej umacniamy naszą tożsamość. Możemy też wprowadzić inne zwyczaje, z którymi będziemy się identyfikować. Ja na przykład mam rytuał powtarzania każdego dnia rano krótkich mantr. Zbierałem je przez lata i wypowiadam, zanim przystąpię do pracy',\n",
       "  'Title': 'Nierozpraszalni',\n",
       "  'Author': 'Nir Eyal',\n",
       "  'URL': '',\n",
       "  'Note': 'zwyczaje przed praca',\n",
       "  'Location': '136',\n",
       "  'Date': '2023.02.14 22:38'},\n",
       " {'Highlight': 'nazywania się nierozpraszalnym. Na przykład, kiedy pracuję w domu, to zanim zacznę blok pracy wymagającej skupienia, mówię żonie i córce, że jestem nierozpraszalny. Zgodnie z tym, o czym czytałeś w rozdziale osiemnastym, używam funkcji „nie przeszkadzać” w moim telefonie, aby wysyłać ludziom, próbującym się ze mną skontaktować, gdy pracuję, automatyczną odpowiedź z informacją, że jestem nierozpraszalny. Zrobiłem nawet koszulki z napisem „NIEROZPRASZALNY” z przodu',\n",
       "  'Title': 'Nierozpraszalni',\n",
       "  'Author': 'Nir Eyal',\n",
       "  'URL': '',\n",
       "  'Note': 'nazywaj Się nierozpraszalnym',\n",
       "  'Location': '137',\n",
       "  'Date': '2023.02.14 22:39'},\n",
       " {'Highlight': 'Choć często zakładamy, że tożsamość jest czymś niezmiennym, obraz samego siebie w istocie okazuje się elastyczny — jest niczym więcej jak pewnym konstruktem umysłowym. To pewien sposób nawykowego myślenia, a jak już wiesz, nawyki można zmieniać na lepsze',\n",
       "  'Title': 'Nierozpraszalni',\n",
       "  'Author': 'Nir Eyal',\n",
       "  'URL': '',\n",
       "  'Note': 'tozsamosc konstruktem umyslowym',\n",
       "  'Location': '137',\n",
       "  'Date': '2023.02.14 22:41'},\n",
       " {'Highlight': 'Tożsamość bardzo wpływa na nasze zachowanie. Ludzie zwykle postępują zgodnie z tym, jak się widzą.Pakt tożsamości jest zobowiązaniem do przestrzegania wizerunku samego siebie. Możesz zapobiec dekoncentracji, działając w zgodzie ze swoją tożsamością.Stań się… rzeczownikiem. Trafny przydomek zwiększa szanse na postępowanie zgodnie z',\n",
       "  'Title': 'Nierozpraszalni',\n",
       "  'Author': 'Nir Eyal',\n",
       "  'URL': '',\n",
       "  'Note': 'zapamietaj 24.1',\n",
       "  'Location': '137',\n",
       "  'Date': '2023.02.14 22:43'},\n",
       " {'Highlight': 'tym, jak się nazwałeś. Nazwij się „nierozpraszalnym”.Bądź wzorem dla innych. Uczenie innych umacnia postanowienia, nawet jeśli sam zmagasz się z ich realizacją. Znakomity sposób na bycie nierozpraszalnym polega na opowiedzeniu przyjaciołom o tym, czego się dowiedziałeś z tej książki, oraz o życiowych zmianach, jakie chcesz wdrożyć.Przestrzegaj rytuałów. Powtarzanie mantr, sporządzanie harmonogramu albo wykonywanie innych rutynowych czynności umacnia tożsamość i wpływa na przyszłe działania',\n",
       "  'Title': 'Nierozpraszalni',\n",
       "  'Author': 'Nir Eyal',\n",
       "  'URL': '',\n",
       "  'Note': 'zapamietaj 24.2',\n",
       "  'Location': '138',\n",
       "  'Date': '2023.02.14 22:43'},\n",
       " {'Highlight': 'Rozdział 26. Dekoncentracja jest oznaką dysfunkcjiPokazano, że firmy, w których od pracowników oczekuje się bardzo wiele, lecz daje się im niewielką kontrolę, są siedliskiem stanów depresyjnych.Objawy przypominające depresję są dotkliwe. Złe samopoczucie skłania ludzi do dekoncentracji, pozwalającej uniknąć poczucia krzywdy i odzyskać wrażenie panowania nad sytuacją.Nadużywanie technologii w pracy jest objawem dysfunkcyjnej kultury organizacyjnej.Stosowanie większej liczby rozwiązań technicznych pogłębia zasadnicze problemy i napędza błędne koło reakcji.',\n",
       "  'Title': 'Nierozpraszalni',\n",
       "  'Author': 'Nir Eyal',\n",
       "  'URL': '',\n",
       "  'Note': 'zapamietaj 24',\n",
       "  'Location': '144',\n",
       "  'Date': '2023.02.14 22:57'},\n",
       " {'Highlight': 'Dyskusje na temat oderwania się od pracy przemieniły się w forum otwartego dialogu',\n",
       "  'Title': 'Nierozpraszalni',\n",
       "  'Author': 'Nir Eyal',\n",
       "  'URL': '',\n",
       "  'Note': 'forum otwartego dialogu',\n",
       "  'Location': '146',\n",
       "  'Date': '2023.02.18 22:49'},\n",
       " {'Highlight': 'Osoby należące do zespołów, które wysoko oceniają swoje bezpieczeństwo psychiczne, rzadziej opuszczają Google, częściej wykorzystują rozmaite pomysły kolegów, przynoszą większe przychody i dwukrotnie częściej niż\\xa0inne są oceniane przez przełożonych jako produktywne',\n",
       "  'Title': 'Nierozpraszalni',\n",
       "  'Author': 'Nir Eyal',\n",
       "  'URL': '',\n",
       "  'Note': 'Glowny czynnik stalych zespolow',\n",
       "  'Location': '148',\n",
       "  'Date': '2023.02.18 22:53'},\n",
       " {'Highlight': 'Świadomość, że Twój głos ma znaczenie i że nie jesteś trybikiem w bezdusznej, skostniałej machinie, ma pozytywny wpływ na samopoczucie',\n",
       "  'Title': 'Nierozpraszalni',\n",
       "  'Author': 'Nir Eyal',\n",
       "  'URL': '',\n",
       "  'Note': 'pokaz ze nie jest się trybikiem',\n",
       "  'Location': '148',\n",
       "  'Date': '2023.02.18 22:59'},\n",
       " {'Highlight': 'stworzyć poczucie bezpieczeństwa psychologicznego? Edmondson w swoim wystąpieniu przedstawia odpowiedź w trzech punktach:Krok 1. „Potraktuj pracę jako problem intelektualny, a nie wykonawczy”. Ponieważ nigdy nie wiadomo, co się wydarzy, podkreśl, że „musimy znać opinie i pomysły wszystkich”.Krok 2. „Uznaj swoją omylność”. Menedżerowie muszą sygnalizować ludziom, że nikt nie jest wszechwiedzący — wszyscy jedziemy na jednym',\n",
       "  'Title': 'Nierozpraszalni',\n",
       "  'Author': 'Nir Eyal',\n",
       "  'URL': '',\n",
       "  'Note': 'tworzenie bezpieczenstwa',\n",
       "  'Location': '148',\n",
       "  'Date': '2023.02.18 23:01'},\n",
       " {'Highlight': 'wózku.Krok 3. Liderzy powinni „stymulować ciekawość i zadawać wiele pytań”[4]',\n",
       "  'Title': 'Nierozpraszalni',\n",
       "  'Author': 'Nir Eyal',\n",
       "  'URL': '',\n",
       "  'Note': 'tworzenue bezpieczenstwa 2',\n",
       "  'Location': '149',\n",
       "  'Date': '2023.02.18 23:01'},\n",
       " {'Highlight': 'Nie cierp w milczeniu. Miejsce pracy, w którym ludzie nie mogą rozmawiać na temat nadużywania technologii, niestety sprzyja też przemilczaniu innych ważnych problemów (i spostrzeżeń).Bardzo ważna jest świadomość istotności własnej opinii. Organizacje, które dbają o bezpieczeństwo psychologiczne i regularnie organizują otwarte dyskusje na temat wątpliwości, rzadziej borykają się z kwestią dekoncentracji, a ich pracownicy (i klienci) są bardziej zadowoleni.',\n",
       "  'Title': 'Nierozpraszalni',\n",
       "  'Author': 'Nir Eyal',\n",
       "  'URL': '',\n",
       "  'Note': 'zapamietaj 25',\n",
       "  'Location': '149',\n",
       "  'Date': '2023.02.18 23:04'},\n",
       " {'Highlight': 'Shevat podziela zdanie Macaitisa. Jak sam powiedział, „w byciu offline nie ma nic złego”.',\n",
       "  'Title': 'Nierozpraszalni',\n",
       "  'Author': 'Nir Eyal',\n",
       "  'URL': '',\n",
       "  'Note': 'bycie offline',\n",
       "  'Location': '151',\n",
       "  'Date': '2023.02.19 11:30'},\n",
       " {'Highlight': 'Zgodnie z tym, o czym przeczytałeś w części pierwszej, walka z dekoncentracją zaczyna się od zrozumienia tego, co dzieje się w nas samych',\n",
       "  'Title': 'Nierozpraszalni',\n",
       "  'Author': 'Nir Eyal',\n",
       "  'URL': '',\n",
       "  'Note': 'rozum co sie dzieje',\n",
       "  'Location': '151',\n",
       "  'Date': '2023.02.19 11:34'},\n",
       " {'Highlight': 'Organizacje, w których można pracować bez zakłóceń, takie jak Slack czy\\xa0BCG, sprzyjają psychologicznemu bezpieczeństwu, zapewniają forum dla otwartych dyskusji na temat obaw pracowników, a przede wszystkim mają liderów, którzy podkreślają znaczenie skupienia przy pracy',\n",
       "  'Title': 'Nierozpraszalni',\n",
       "  'Author': 'Nir Eyal',\n",
       "  'URL': '',\n",
       "  'Note': 'zapamietaj 26',\n",
       "  'Location': '153',\n",
       "  'Date': '2023.02.19 11:40'},\n",
       " {'Highlight': 'Rozdział 29. Unikaj wygodnych wymówekUmiejętność bycia nierozpraszalnym będzie służyć dzieciom bez względu na to, jaką ścieżką życia podążą i jakie formy przybiera ich skłonność do rozpraszania uwagi. Jeśli chcemy im pomóc we wzięciu odpowiedzialności za własne wybory, musimy przestać się zasłaniać wygodnymi wymówkami, tłumaczącymi ich (i nasze) zachowania.',\n",
       "  'Title': 'Nierozpraszalni',\n",
       "  'Author': 'Nir Eyal',\n",
       "  'URL': '',\n",
       "  'Note': 'wygodne wymowki',\n",
       "  'Location': '158',\n",
       "  'Date': '2023.02.19 11:51'},\n",
       " {'Highlight': 'Nie obwiniaj. Gdy dzieci nie zachowują się zgodnie z oczekiwaniami, rodzicom łatwo jest imać się rozwiązań, które pomagają w uniknięciu poczucia odpowiedzialności.Lęk przed wynalazkami nie jest nowy. Od książek, przez radio, po gry wideo, historia rodzicielstwa jest przesiąknięta moralnymi niepokojami z\\xa0powodu rzeczy, które rzekomo skłaniają dzieci do dziwnych zachowań.Technika nie jest zła. Używana właściwie i w odpowiedniej ilości może być korzystna, dopiero jej nadmiar (albo niedostatek) może mieć nieznacznie szkodliwe skutki.Ucz dzieci bycia nierozpraszalnymi. Pokazywanie dzieciom, jak panować nad skłonnościami do dekoncentracji, będzie procentowało przez całe życie',\n",
       "  'Title': 'Nierozpraszalni',\n",
       "  'Author': 'Nir Eyal',\n",
       "  'URL': '',\n",
       "  'Note': 'zapamietaj 27',\n",
       "  'Location': '159',\n",
       "  'Date': '2023.02.19 11:54'},\n",
       " {'Highlight': 'Lekcja 1. Dzieci potrzebują autonomii — wolności i samostanowieniaIch „teoria samodeterminacji” (ang. self-determination theory) jest powszechnie uważana za fundament psychologicznego dobrostanu',\n",
       "  'Title': 'Nierozpraszalni',\n",
       "  'Author': 'Nir Eyal',\n",
       "  'URL': '',\n",
       "  'Note': 'psychologiczny dobrostan',\n",
       "  'Location': '160',\n",
       "  'Date': '2023.02.19 11:56'},\n",
       " {'Highlight': 'Tak jak organizm człowieka potrzebuje do prawidłowego funkcjonowania trzech makroskładników (białek, węglowodanów i tłuszczów), tak według teorii Ryana i Deciego psychika ludzka potrzebuje trzech czynników, aby mogła się rozwijać: autonomii, kompetencji i istotności',\n",
       "  'Title': 'Nierozpraszalni',\n",
       "  'Author': 'Nir Eyal',\n",
       "  'URL': '',\n",
       "  'Note': '3 czynniki',\n",
       "  'Location': '160',\n",
       "  'Date': '2023.02.19 11:57'},\n",
       " {'Highlight': 'Bez wystarczającej ilości autonomii, kompetencji i\\xa0istotności dzieci szukają psychologicznego zaspokojenia w dekoncentrujących atrakcjach',\n",
       "  'Title': 'Nierozpraszalni',\n",
       "  'Author': 'Nir Eyal',\n",
       "  'URL': '',\n",
       "  'Note': 'braki zastepowane dekoncetracja',\n",
       "  'Location': '160',\n",
       "  'Date': '2023.02.19 11:59'},\n",
       " {'Highlight': '\"Psycholog Suzanne Gaskins przez dziesięciolecia badała wioski Majów i\\xa0w wywiadzie dla NPR powiedziała, że tamtejsi rodzice dają swoim dzieciom ogromną swobodę. „To nie matki wyznaczają cele, a potem zachęcają i nagradzają, by je osiągać',\n",
       "  'Title': ' to dziecko wyznacza sobie cel. Dopiero wtedy rodzice wspierają je w miarę swoich możliwości\"',\n",
       "  'Author': 'Nierozpraszalni',\n",
       "  'URL': 'Nir Eyal',\n",
       "  'Note': '',\n",
       "  'Location': 'dzieci majow',\n",
       "  'Date': '161'},\n",
       " {'Highlight': 'dzieci mogą przestać starać się panować nad swoją uwagą, jeśli zawsze dba o nią ktoś dorosły”[4]. Innymi słowy, dzieci mogą uwarunkować się na utratę kontroli nad uwagą i w rezultacie stać się bardzo rozkojarzone',\n",
       "  'Title': 'Nierozpraszalni',\n",
       "  'Author': 'Nir Eyal',\n",
       "  'URL': '',\n",
       "  'Note': 'NiE musisz jesli ktos inny to robi za ciebie',\n",
       "  'Location': '161',\n",
       "  'Date': '2023.02.19 12:05'},\n",
       " {'Highlight': 'Lekcja 3. Dzieci chcą być istotne — czuć, że są ważne dla innych, a inni są ważni dla nichJeśli dziecko nie radzi sobie dobrze w szkole i nie otrzymuje niezbędnego, indywidualnego wsparcia, zaczyna wierzyć, że osiągnięcie oczekiwanego poziomu kompetencji jest niemożliwe — a wtedy przestaje próbować.',\n",
       "  'Title': 'Nierozpraszalni',\n",
       "  'Author': 'Nir Eyal',\n",
       "  'URL': '',\n",
       "  'Note': 'trzeba wierzyc aby probowac',\n",
       "  'Location': '163',\n",
       "  'Date': '2023.02.19 12:13'},\n",
       " {'Highlight': 'dzieci zajmują się w szkole czymś, czego nie lubią i nie doceniają, a na dodatek nie dostrzegają możliwości doskonalenia się, to „nie powinno nas dziwić, że wieczorami wolą porobić coś, co pozwala im zyskać poczucie kompetencji”.',\n",
       "  'Title': 'Nierozpraszalni',\n",
       "  'Author': 'Nir Eyal',\n",
       "  'URL': '',\n",
       "  'Note': 'poczucie doskonalenia',\n",
       "  'Location': '163',\n",
       "  'Date': '2023.02.19 12:28'},\n",
       " {'Highlight': 'dzieci nie otrzymuje wystarczającej ilości trzech podstawowych psychologicznych składników odżywczych — poczucia autonomii, kompetencji i istotności — w życiu offline. Nic więc dziwnego, że dzieci szukają ich zamienników w internecie. „Nazywamy to »hipotezą skupienia potrzeb«[*], [13]. Im słabiej zaspokojone są twoje życiowe potrzeby, tym chętniej sycisz je w wirtualnej rzeczywistości” —',\n",
       "  'Title': 'Nierozpraszalni',\n",
       "  'Author': 'Nir Eyal',\n",
       "  'URL': '',\n",
       "  'Note': 'hipoteza skupienia potrzeb',\n",
       "  'Location': '164',\n",
       "  'Date': '2023.02.19 12:36'},\n",
       " {'Highlight': '\"Na podstawie badań Ryan doszedł do wniosku, że „nadużywanie [technologii] jest symptomem',\n",
       "  'Title': ' jednym z przejawów pustki w innych dziedzinach życia, takich jak szkoła i dom”. Gdy trzy wymienione potrzeby są zaspokojone, ludzie są bardziej zmotywowani, produktywni, wytrwalsi i bardziej kreatywni.\"',\n",
       "  'Author': 'Nierozpraszalni',\n",
       "  'URL': 'Nir Eyal',\n",
       "  'Note': '',\n",
       "  'Location': 'naduzywanie technologii a pustka',\n",
       "  'Date': '165'},\n",
       " {'Highlight': 'Możesz zacząć od podzielenia się z dzieckiem kilkoma poznanymi w części pierwszej metodami radzenia sobie z problemami i przeformułowywania ich. Opowiedz mu, jak zmieniłeś swoje postępowanie, aby uporać się z dekoncentrującymi bodźcami — odsłonięcie się i pokazanie dzieciom, że rozumiemy ich zmagania oraz stajemy przed podobnymi wyzwaniami, pomaga w budowaniu zaufania.',\n",
       "  'Title': 'Nierozpraszalni',\n",
       "  'Author': 'Nir Eyal',\n",
       "  'URL': '',\n",
       "  'Note': 'pokaz jak ty sobie radzisz',\n",
       "  'Location': '165',\n",
       "  'Date': '2023.02.19 12:39'},\n",
       " {'Highlight': 'Wewnętrzne bodźce wywołują określone zachowania. Aby zrozumieć, jak\\xa0pomóc dzieciom radzić sobie z nieuwagą, musimy zacząć od poznania źródła problemu.Dzieci potrzebują psychologicznych składników odżywczych. Zgodnie z\\xa0powszechnie uznawaną teorią motywacji w celu osiągnięcia dobrostanu wszyscy ludzie potrzebują trzech',\n",
       "  'Title': 'Nierozpraszalni',\n",
       "  'Author': 'Nir Eyal',\n",
       "  'URL': '',\n",
       "  'Note': 'zapamietaj 28.1',\n",
       "  'Location': '165',\n",
       "  'Date': '2023.02.19 12:44'},\n",
       " {'Highlight': 'składników: poczucia autonomii, kompetencji i istotności.Dekoncentrujące atrakcje uśmierzają deficyty. Jeśli potrzeby psychologiczne dziecka nie zostaną zaspokojone w „prawdziwym świecie”, zwróci się ono gdzie indziej — często do wirtualnego otoczenia.Dzieci potrzebują alternatyw. Rodzice i opiekunowie mogą podjąć działania, które pomogą dzieciom znaleźć równowagę między czasem online a offline, poprzez zapewnienie większej liczby okazji do nabrania poczucia autonomii, kompetencji i istotności w „prawdziwym świecie”.Czteroczęściowy model nierozpraszalności sprawdza się także u dzieci. Ucz je metod radzenia sobie z dekoncentrującymi bodźcami, przede wszystkim zaś sam bądź wzorem nierozpraszalności',\n",
       "  'Title': 'Nierozpraszalni',\n",
       "  'Author': 'Nir Eyal',\n",
       "  'URL': '',\n",
       "  'Note': 'zapamietaj 28.2',\n",
       "  'Location': '166',\n",
       "  'Date': '2023.02.19 12:45'},\n",
       " {'Highlight': 'Pozwolenie dzieciom na autonomię w zakresie panowania nad swoim czasem to wielki dar. Nawet jeśli czasami się potkną, porażki są nieodłącznym elementem nauki',\n",
       "  'Title': 'Nierozpraszalni',\n",
       "  'Author': 'Nir Eyal',\n",
       "  'URL': '',\n",
       "  'Note': 'pozwol upasc',\n",
       "  'Location': '170',\n",
       "  'Date': '2023.02.21 00:21'},\n",
       " {'Highlight': 'Dlatego lepiej jest zarezerwować wieczór — choćby jeden w tygodniu — na wspólny posiłek bez elektronicznych gadżetów. W miarę rozwoju dzieci możemy zachęcić je do brania aktywniejszego udziału w kształtowaniu rodzinnych biesiad, sugerując im na przykład urządzenie „piątku z przekąskami”, wspólne gotowanie albo podsuwanie tematów do dyskusji',\n",
       "  'Title': 'Nierozpraszalni',\n",
       "  'Author': 'Nir Eyal',\n",
       "  'URL': '',\n",
       "  'Note': 'zarezerwuj posilek',\n",
       "  'Location': '170',\n",
       "  'Date': '2023.02.21 00:26'},\n",
       " {'Highlight': 'sunday-funday (niedziela – dzień zabawy). Polega on na tym, że na zmianę wymyślamy pomysły na trzygodzinną, wspólną aktywność. Gdy przychodzi moja kolej, proponuję wyjście do parku albo długi spacer i rozmowę. Córka zwykle wybiera grę planszową. Żona często sugeruje wyprawę na miejscowy targ, aby zobaczyć, co nowego i dobrego możemy zjeść. Bez względu na wybór koncepcja polega na regularnym rezerwowaniu wspólnego czasu na zaspokojenie potrzeby więzi.',\n",
       "  'Title': 'Nierozpraszalni',\n",
       "  'Author': 'Nir Eyal',\n",
       "  'URL': '',\n",
       "  'Note': 'wspolnie zaplanowany czas',\n",
       "  'Location': '171',\n",
       "  'Date': '2023.02.21 00:34'},\n",
       " {'Highlight': 'Rozdział 31. Znajdź wspólny czas na trakcjęUcz trakcji. Przy tak wielu możliwych dekoncentrujących bodźcach w życiu dziecka uczenie go znajdowania czasu na trakcję jest niezwykle istotne.Tak jak my w naszych harmonogramach, również dzieci mogą uczyć się znajdować czas na to, co jest dla nich ważne. Jeśli nie opanują sztuki tworzenia planów, wpadną w sidła dekoncentrujących atrakcji.Nie ma nic złego w pozwalaniu dzieciom na potknięcia. Uczymy się na błędach. Pokazuj dzieciom, jak korygować plany, aby żyć zgodnie z własnymi wartościami.',\n",
       "  'Title': 'Nierozpraszalni',\n",
       "  'Author': 'Nir Eyal',\n",
       "  'URL': '',\n",
       "  'Note': 'zapamietaj 29',\n",
       "  'Location': '171',\n",
       "  'Date': '2023.02.21 00:38'},\n",
       " {'Highlight': 'Jako rodzice często zapominamy o tym, że\\xa0sam\\xa0fakt, iż dziecko czegoś bardzo chce, nie\\xa0jest wystarczającym powodem, by mu to dać',\n",
       "  'Title': 'Nierozpraszalni',\n",
       "  'Author': 'Nir Eyal',\n",
       "  'URL': '',\n",
       "  'Note': 'chce nie znaczy musze',\n",
       "  'Location': '173',\n",
       "  'Date': '2023.02.22 23:36'},\n",
       " {'Highlight': 'Tak jak możesz poprosić przełożonego o czas na skupienie w pracy, tak rodzice powinni szanować harmonogramy dzieci',\n",
       "  'Title': 'Nierozpraszalni',\n",
       "  'Author': 'Nir Eyal',\n",
       "  'URL': '',\n",
       "  'Note': 'pros o czas na skupienie',\n",
       "  'Location': '174',\n",
       "  'Date': '2023.02.22 23:46'},\n",
       " {'Highlight': 'Rozdział 32. Pomóż im się uporać z zewnętrznymi bodźcamiUcz dzieci pływać, zanim puścisz je na głęboką wodę. Zasady są podobne jak na basenie: dzieciom nie powinno się pozwalać podejmować niektórych ryzykownych działań, dopóki nie będą na nie gotowe.Sprawdź, czy są przygotowane na technologię. Dobrą miarą gotowości dziecka jest umiejętność skonfigurowania ustawień urządzenia w sposób pozwalający wyłączyć dekoncentrujące, zewnętrzne bodźce.Dzieci potrzebują snu. Nie ma większego uzasadnienia dla wyposażania pokoju dziecka w telewizor czy inne zakłócające nocny spokój gadżety. Zadbaj o to, by nic nie przeszkadzało mu wypocząć.Nie bądź złym zewnętrznym bodźcem. Szanuj czas dzieci i nie przerywaj im\\xa0w porach, w których zaplanowały zajęcie się czymś w skupieniu — czy będzie to praca, czy zabawa',\n",
       "  'Title': 'Nierozpraszalni',\n",
       "  'Author': 'Nir Eyal',\n",
       "  'URL': '',\n",
       "  'Note': 'zapamietaj 30',\n",
       "  'Location': '175',\n",
       "  'Date': '2023.02.22 23:48'},\n",
       " {'Highlight': 'Rozdział 33. Ucz je zawierać własne paktyDialog i nieporozumienia — jeśli umiemy traktować się z szacunkiem — są oznaką zdrowej rodziny',\n",
       "  'Title': 'Nierozpraszalni',\n",
       "  'Author': 'Nir Eyal',\n",
       "  'URL': '',\n",
       "  'Note': 'dialog I nieporozumienia',\n",
       "  'Location': '178',\n",
       "  'Date': '2023.02.22 23:59'},\n",
       " {'Highlight': 'Nie bagatelizuj zdolności dziecka do podejmowania zobowiązań i\\xa0konsekwentnego ich wypełniania. Nawet małe dzieci mogą nauczyć się składać obietnice, o ile same ustalą zasady i wiedzą, jak posłużyć się minutnikiem lub systemem, który ułatwi im wywiązanie się z deklaracji.Sceptycyzm konsumencki jest cenny. Świadomość faktu, że firmom zależy na tym, by dzieci spędzały czas na oglądaniu filmów lub graniu, jest ważnym aspektem uczenia młodych ludzi mądrego korzystania z mediów.Pozwól dziecku być odpowiedzialnym. Tylko te dzieci, które ćwiczą kontrolowanie własnego zachowania, mogą nauczyć się panować nad czasem i uwagą.',\n",
       "  'Title': 'Nierozpraszalni',\n",
       "  'Author': 'Nir Eyal',\n",
       "  'URL': '',\n",
       "  'Note': 'zapamietaj 31',\n",
       "  'Location': '178',\n",
       "  'Date': '2023.02.23 00:02'},\n",
       " {'Highlight': 'Rozdział 34. Rozsiewaj przeciwciała społeczne wśród przyjaciółNormy społeczne się zmieniają, ale to od nas zależy, czy będą się zmieniać na lepsze',\n",
       "  'Title': 'Nierozpraszalni',\n",
       "  'Author': 'Nir Eyal',\n",
       "  'URL': '',\n",
       "  'Note': 'Normy na lepsze',\n",
       "  'Location': '181',\n",
       "  'Date': '2023.02.23 00:13'},\n",
       " {'Highlight': 'przeprosić wszystkich, wyjść i zażegnać kryzysową sytuację, która zaistniała w jego smartfonie, lub (2) odłożyć urządzenie. Pytanie może brzmieć następująco: „Widzę, że wciąż zerkasz na telefon, czy wszystko jest w porządku?',\n",
       "  'Title': 'Nierozpraszalni',\n",
       "  'Author': 'Nir Eyal',\n",
       "  'URL': '',\n",
       "  'Note': 'gdy ktos korzysta z telefonu',\n",
       "  'Location': '182',\n",
       "  'Date': '2023.02.23 00:14'},\n",
       " {'Highlight': 'warto eliminować niepożądane bodźce, aby skupić się na przyjaciołach. Jeśli nie wygospodarujemy czasu i miejsca na spokojne dyskusje, ryzykujemy utratę okazji do głębszego poznania przyjaciół, a im nie pozwolimy prawdziwie poznać nas',\n",
       "  'Title': 'Nierozpraszalni',\n",
       "  'Author': 'Nir Eyal',\n",
       "  'URL': '',\n",
       "  'Note': 'warto eliminowac zeby Się poznac',\n",
       "  'Location': '183',\n",
       "  'Date': '2023.02.23 00:20'},\n",
       " {'Highlight': 'Dekoncentracja w sytuacjach towarzyskich uniemożliwia nam przebywanie duchem i ciałem z osobami ważnymi w naszym życiu. Wszelkie zakłócenia utrudniają budowanie bliskich więzi społecznych.Hamuj rozpowszechnianie niezdrowych zachowań. „Przeciwciała społeczne” to jedna z metod chronienia się społeczności przed szkodliwymi zachowaniami poprzez uczynienie z nich tabu.Twórz nowe normy społeczne. Możemy poradzić sobie z dekoncentracją w\\xa0trakcie spotkań z przyjaciółmi, tak samo jak walczymy z paleniem — poprzez traktowanie użytkowania elektronicznych gadżetów w towarzystwie jako czegoś nieakceptowalnego. Miej w zanadrzu kilka taktownych pytań — na przykład „czy wszystko w porządku?” — aby zniechęcić znajomych do ślęczenia nad smartfonem podczas spotkań.',\n",
       "  'Title': 'Nierozpraszalni',\n",
       "  'Author': 'Nir Eyal',\n",
       "  'URL': '',\n",
       "  'Note': 'zapamietaj 32',\n",
       "  'Location': '183',\n",
       "  'Date': '2023.02.23 00:22'},\n",
       " {'Highlight': 'Wdrożyliśmy zasadę dziesięciu minut: złożyliśmy sobie obietnicę, że jeśli najdzie nas ogromna chęć na skorzystanie ze smartfona lub laptopa, odczekamy regulaminowe dziesięć minut. Dzięki temu mogliśmy przez ten czas „surfować na fali pokus” i wymusić na sobie przerwę, pozwalającą przełamać bezmyślnie powtarzany nawyk.',\n",
       "  'Title': 'Nierozpraszalni',\n",
       "  'Author': 'Nir Eyal',\n",
       "  'URL': '',\n",
       "  'Note': 'zasada 10 minut',\n",
       "  'Location': '185',\n",
       "  'Date': '2023.02.24 16:39'},\n",
       " {'Highlight': 'Rozdział 35. Bądź nierozpraszalnym partneremDekoncentracja może dać się we znaki nawet w najbliższych relacjach. Możliwość błyskawicznego nawiązania cyfrowego kontaktu z ludźmi jest obarczona kosztem utraty bliskości z najbliższymi.Nierozpraszalni partnerzy odzyskują czas na bycie razem. Wykonanie czterech kroków do nierozpraszalności może być gwarancją znalezienia czasu dla „drugiej połówki”.Teraz Twoja kolej — zostań nierozpraszalnym.',\n",
       "  'Title': 'Nierozpraszalni',\n",
       "  'Author': 'Nir Eyal',\n",
       "  'URL': '',\n",
       "  'Note': 'zapamietaj 33',\n",
       "  'Location': '187',\n",
       "  'Date': '2023.02.24 16:54'},\n",
       " {'Highlight': 'Część 1. Zapanuj nad bodźcami wewnętrznymiStreszczenia rozdziałów',\n",
       "  'Title': 'Nierozpraszalni',\n",
       "  'Author': 'Nir Eyal',\n",
       "  'URL': '',\n",
       "  'Note': 'streszczenie',\n",
       "  'Location': '190',\n",
       "  'Date': '2023.02.24 17:20'},\n",
       " {'Highlight': 'Klub dyskusyjny NierozpraszalnychKlub dyskusyjny NierozpraszalnychPora nawiązać kontakt z przyjaciółmi i przedyskutować tematy, z którymi zapoznałeś się w Nierozpraszalnych',\n",
       "  'Title': 'Nierozpraszalni',\n",
       "  'Author': 'Nir Eyal',\n",
       "  'URL': '',\n",
       "  'Note': 'Rozmowa z przyjaciolmi',\n",
       "  'Location': '227',\n",
       "  'Date': '2023.02.24 17:13'},\n",
       " {'Highlight': ''}]"
      ]
     },
     "execution_count": 5,
     "metadata": {},
     "output_type": "execute_result"
    }
   ],
   "source": [
    "read_csv_rows_in_dict('data_output/data_Nierozpraszalni.csv')"
   ]
  },
  {
   "cell_type": "code",
   "execution_count": 3,
   "metadata": {},
   "outputs": [],
   "source": [
    "from notion_integration.notion_processing import read_notion_authorization_information"
   ]
  },
  {
   "cell_type": "code",
   "execution_count": 4,
   "metadata": {},
   "outputs": [],
   "source": [
    "notion_key, notion_database = read_notion_authorization_information()"
   ]
  },
  {
   "cell_type": "code",
   "execution_count": 43,
   "metadata": {},
   "outputs": [
    {
     "data": {
      "text/plain": [
       "2"
      ]
     },
     "execution_count": 43,
     "metadata": {},
     "output_type": "execute_result"
    }
   ],
   "source": [
    "import random\n",
    "random.randint(1, 339)"
   ]
  },
  {
   "cell_type": "code",
   "execution_count": 36,
   "metadata": {},
   "outputs": [
    {
     "name": "stdout",
     "output_type": "stream",
     "text": [
      "{\"object\":\"list\",\"results\":[{\"object\":\"page\",\"id\":\"8e2d658d-6c80-4b50-8826-17a0140fde0f\",\"created_time\":\"2023-05-13T22:52:00.000Z\",\"last_edited_time\":\"2023-05-13T22:52:00.000Z\",\"created_by\":{\"object\":\"user\",\"id\":\"5096cb16-ff71-4e9c-ac10-784102d1ad62\"},\"last_edited_by\":{\"object\":\"user\",\"id\":\"5096cb16-ff71-4e9c-ac10-784102d1ad62\"},\"cover\":null,\"icon\":null,\"parent\":{\"type\":\"database_id\",\"database_id\":\"119999ea-1a1d-442c-8889-ef2bd25db803\"},\"archived\":false,\"properties\":{\"Book\":{\"id\":\"%3B%3Aeu\",\"type\":\"rich_text\",\"rich_text\":[{\"type\":\"text\",\"text\":{\"content\":\"Nierozpraszalni\",\"link\":null},\"annotations\":{\"bold\":false,\"italic\":false,\"strikethrough\":false,\"underline\":false,\"code\":false,\"color\":\"default\"},\"plain_text\":\"Nierozpraszalni\",\"href\":null}]},\"Date\":{\"id\":\"%3B%5Cx~\",\"type\":\"date\",\"date\":{\"start\":\"2023-02-01T23:36:00.000+00:00\",\"end\":null,\"time_zone\":null}},\"Tags\":{\"id\":\"TWTa\",\"type\":\"select\",\"select\":{\"id\":\"e2084bd3-b61b-41c9-aaaf-e86d7484e0ee\",\"name\":\"Understanding\",\"color\":\"gray\"}},\"Location\":{\"id\":\"%5BTo%5C\",\"type\":\"number\",\"number\":16},\"ToCorrect\":{\"id\":\"e%7CQU\",\"type\":\"checkbox\",\"checkbox\":false},\"Added time\":{\"id\":\"h%7Dxc\",\"type\":\"created_time\",\"created_time\":\"2023-05-13T22:52:00.000Z\"},\"Idx\":{\"id\":\"ni%7BJ\",\"type\":\"number\",\"number\":4},\"Highlight\":{\"id\":\"we%3Cp\",\"type\":\"rich_text\",\"rich_text\":[{\"type\":\"text\",\"text\":{\"content\":\"dlaczego nie powinieneś mówić, że coś Cię rozprasza, dopóki nie określisz, od czego odciąga to Twoją uwagę\",\"link\":null},\"annotations\":{\"bold\":false,\"italic\":false,\"strikethrough\":false,\"underline\":false,\"code\":false,\"color\":\"default\"},\"plain_text\":\"dlaczego nie powinieneś mówić, że coś Cię rozprasza, dopóki nie określisz, od czego odciąga to Twoją uwagę\",\"href\":null}]},\"Author\":{\"id\":\"%7DJG%3C\",\"type\":\"rich_text\",\"rich_text\":[{\"type\":\"text\",\"text\":{\"content\":\"Nir Eyal\",\"link\":null},\"annotations\":{\"bold\":false,\"italic\":false,\"strikethrough\":false,\"underline\":false,\"code\":false,\"color\":\"default\"},\"plain_text\":\"Nir Eyal\",\"href\":null}]},\"Note\":{\"id\":\"title\",\"type\":\"title\",\"title\":[{\"type\":\"text\",\"text\":{\"content\":\"deconcetrare from what else\",\"link\":null},\"annotations\":{\"bold\":false,\"italic\":false,\"strikethrough\":false,\"underline\":false,\"code\":false,\"color\":\"default\"},\"plain_text\":\"deconcetrare from what else\",\"href\":null}]}},\"url\":\"https://www.notion.so/deconcetrare-from-what-else-8e2d658d6c804b50882617a0140fde0f\"}],\"next_cursor\":null,\"has_more\":false,\"type\":\"page\",\"page\":{}}\n"
     ]
    }
   ],
   "source": [
    "import requests\n",
    "\n",
    "url = f\"https://api.notion.com/v1/databases/{notion_database}/query\"\n",
    "\n",
    "payload = {\n",
    "    \"page_size\": 1,\n",
    "    \"filter\": {\n",
    "    \"property\": \"Idx\",\n",
    "    \"number\": {\n",
    "        \"equals\": 4}\n",
    "\n",
    "    }\n",
    "    }\n",
    "\n",
    "headers = {\n",
    "    \"Authorization\": f\"Bearer {notion_key}\",\n",
    "    \"accept\": \"application/json\",\n",
    "    \"Notion-Version\": \"2022-06-28\",\n",
    "    \"content-type\": \"application/json\"\n",
    "}\n",
    "\n",
    "response = requests.post(url, json=payload, headers=headers)\n",
    "\n",
    "print(response.text)"
   ]
  },
  {
   "cell_type": "code",
   "execution_count": 10,
   "metadata": {},
   "outputs": [],
   "source": [
    "filter = {\n",
    "    \"and\": [\n",
    "        {\n",
    "            \"property\": \"Idx\",\n",
    "            \"number\": 4\n",
    "        }\n",
    "    ]\n",
    "}"
   ]
  },
  {
   "cell_type": "code",
   "execution_count": 16,
   "metadata": {},
   "outputs": [],
   "source": [
    "import json"
   ]
  },
  {
   "cell_type": "code",
   "execution_count": 20,
   "metadata": {},
   "outputs": [],
   "source": [
    "data = response.json()"
   ]
  },
  {
   "cell_type": "code",
   "execution_count": 21,
   "metadata": {},
   "outputs": [
    {
     "data": {
      "text/plain": [
       "{'object': 'list',\n",
       " 'results': [{'object': 'page',\n",
       "   'id': '8e2d658d-6c80-4b50-8826-17a0140fde0f',\n",
       "   'created_time': '2023-05-13T22:52:00.000Z',\n",
       "   'last_edited_time': '2023-05-13T22:52:00.000Z',\n",
       "   'created_by': {'object': 'user',\n",
       "    'id': '5096cb16-ff71-4e9c-ac10-784102d1ad62'},\n",
       "   'last_edited_by': {'object': 'user',\n",
       "    'id': '5096cb16-ff71-4e9c-ac10-784102d1ad62'},\n",
       "   'cover': None,\n",
       "   'icon': None,\n",
       "   'parent': {'type': 'database_id',\n",
       "    'database_id': '119999ea-1a1d-442c-8889-ef2bd25db803'},\n",
       "   'archived': False,\n",
       "   'properties': {'Book': {'id': '%3B%3Aeu',\n",
       "     'type': 'rich_text',\n",
       "     'rich_text': [{'type': 'text',\n",
       "       'text': {'content': 'Nierozpraszalni', 'link': None},\n",
       "       'annotations': {'bold': False,\n",
       "        'italic': False,\n",
       "        'strikethrough': False,\n",
       "        'underline': False,\n",
       "        'code': False,\n",
       "        'color': 'default'},\n",
       "       'plain_text': 'Nierozpraszalni',\n",
       "       'href': None}]},\n",
       "    'Date': {'id': '%3B%5Cx~',\n",
       "     'type': 'date',\n",
       "     'date': {'start': '2023-02-01T23:36:00.000+00:00',\n",
       "      'end': None,\n",
       "      'time_zone': None}},\n",
       "    'Tags': {'id': 'TWTa',\n",
       "     'type': 'select',\n",
       "     'select': {'id': 'e2084bd3-b61b-41c9-aaaf-e86d7484e0ee',\n",
       "      'name': 'Understanding',\n",
       "      'color': 'gray'}},\n",
       "    'Location': {'id': '%5BTo%5C', 'type': 'number', 'number': 16},\n",
       "    'ToCorrect': {'id': 'e%7CQU', 'type': 'checkbox', 'checkbox': False},\n",
       "    'Added time': {'id': 'h%7Dxc',\n",
       "     'type': 'created_time',\n",
       "     'created_time': '2023-05-13T22:52:00.000Z'},\n",
       "    'Idx': {'id': 'ni%7BJ', 'type': 'number', 'number': 4},\n",
       "    'Highlight': {'id': 'we%3Cp',\n",
       "     'type': 'rich_text',\n",
       "     'rich_text': [{'type': 'text',\n",
       "       'text': {'content': 'dlaczego nie powinieneś mówić, że coś Cię rozprasza, dopóki nie określisz, od czego odciąga to Twoją uwagę',\n",
       "        'link': None},\n",
       "       'annotations': {'bold': False,\n",
       "        'italic': False,\n",
       "        'strikethrough': False,\n",
       "        'underline': False,\n",
       "        'code': False,\n",
       "        'color': 'default'},\n",
       "       'plain_text': 'dlaczego nie powinieneś mówić, że coś Cię rozprasza, dopóki nie określisz, od czego odciąga to Twoją uwagę',\n",
       "       'href': None}]},\n",
       "    'Author': {'id': '%7DJG%3C',\n",
       "     'type': 'rich_text',\n",
       "     'rich_text': [{'type': 'text',\n",
       "       'text': {'content': 'Nir Eyal', 'link': None},\n",
       "       'annotations': {'bold': False,\n",
       "        'italic': False,\n",
       "        'strikethrough': False,\n",
       "        'underline': False,\n",
       "        'code': False,\n",
       "        'color': 'default'},\n",
       "       'plain_text': 'Nir Eyal',\n",
       "       'href': None}]},\n",
       "    'Note': {'id': 'title',\n",
       "     'type': 'title',\n",
       "     'title': [{'type': 'text',\n",
       "       'text': {'content': 'deconcetrare from what else', 'link': None},\n",
       "       'annotations': {'bold': False,\n",
       "        'italic': False,\n",
       "        'strikethrough': False,\n",
       "        'underline': False,\n",
       "        'code': False,\n",
       "        'color': 'default'},\n",
       "       'plain_text': 'deconcetrare from what else',\n",
       "       'href': None}]}},\n",
       "   'url': 'https://www.notion.so/deconcetrare-from-what-else-8e2d658d6c804b50882617a0140fde0f'}],\n",
       " 'next_cursor': None,\n",
       " 'has_more': False,\n",
       " 'type': 'page',\n",
       " 'page': {}}"
      ]
     },
     "execution_count": 21,
     "metadata": {},
     "output_type": "execute_result"
    }
   ],
   "source": [
    "data"
   ]
  },
  {
   "cell_type": "code",
   "execution_count": 24,
   "metadata": {},
   "outputs": [
    {
     "data": {
      "text/plain": [
       "{'Book': {'id': '%3B%3Aeu',\n",
       "  'type': 'rich_text',\n",
       "  'rich_text': [{'type': 'text',\n",
       "    'text': {'content': 'Nierozpraszalni', 'link': None},\n",
       "    'annotations': {'bold': False,\n",
       "     'italic': False,\n",
       "     'strikethrough': False,\n",
       "     'underline': False,\n",
       "     'code': False,\n",
       "     'color': 'default'},\n",
       "    'plain_text': 'Nierozpraszalni',\n",
       "    'href': None}]},\n",
       " 'Date': {'id': '%3B%5Cx~',\n",
       "  'type': 'date',\n",
       "  'date': {'start': '2023-02-01T23:36:00.000+00:00',\n",
       "   'end': None,\n",
       "   'time_zone': None}},\n",
       " 'Tags': {'id': 'TWTa',\n",
       "  'type': 'select',\n",
       "  'select': {'id': 'e2084bd3-b61b-41c9-aaaf-e86d7484e0ee',\n",
       "   'name': 'Understanding',\n",
       "   'color': 'gray'}},\n",
       " 'Location': {'id': '%5BTo%5C', 'type': 'number', 'number': 16},\n",
       " 'ToCorrect': {'id': 'e%7CQU', 'type': 'checkbox', 'checkbox': False},\n",
       " 'Added time': {'id': 'h%7Dxc',\n",
       "  'type': 'created_time',\n",
       "  'created_time': '2023-05-13T22:52:00.000Z'},\n",
       " 'Idx': {'id': 'ni%7BJ', 'type': 'number', 'number': 4},\n",
       " 'Highlight': {'id': 'we%3Cp',\n",
       "  'type': 'rich_text',\n",
       "  'rich_text': [{'type': 'text',\n",
       "    'text': {'content': 'dlaczego nie powinieneś mówić, że coś Cię rozprasza, dopóki nie określisz, od czego odciąga to Twoją uwagę',\n",
       "     'link': None},\n",
       "    'annotations': {'bold': False,\n",
       "     'italic': False,\n",
       "     'strikethrough': False,\n",
       "     'underline': False,\n",
       "     'code': False,\n",
       "     'color': 'default'},\n",
       "    'plain_text': 'dlaczego nie powinieneś mówić, że coś Cię rozprasza, dopóki nie określisz, od czego odciąga to Twoją uwagę',\n",
       "    'href': None}]},\n",
       " 'Author': {'id': '%7DJG%3C',\n",
       "  'type': 'rich_text',\n",
       "  'rich_text': [{'type': 'text',\n",
       "    'text': {'content': 'Nir Eyal', 'link': None},\n",
       "    'annotations': {'bold': False,\n",
       "     'italic': False,\n",
       "     'strikethrough': False,\n",
       "     'underline': False,\n",
       "     'code': False,\n",
       "     'color': 'default'},\n",
       "    'plain_text': 'Nir Eyal',\n",
       "    'href': None}]},\n",
       " 'Note': {'id': 'title',\n",
       "  'type': 'title',\n",
       "  'title': [{'type': 'text',\n",
       "    'text': {'content': 'deconcetrare from what else', 'link': None},\n",
       "    'annotations': {'bold': False,\n",
       "     'italic': False,\n",
       "     'strikethrough': False,\n",
       "     'underline': False,\n",
       "     'code': False,\n",
       "     'color': 'default'},\n",
       "    'plain_text': 'deconcetrare from what else',\n",
       "    'href': None}]}}"
      ]
     },
     "execution_count": 24,
     "metadata": {},
     "output_type": "execute_result"
    }
   ],
   "source": [
    "item_retrieved = data['results'][0]['properties']\n",
    "item_retrieved"
   ]
  },
  {
   "cell_type": "code",
   "execution_count": 25,
   "metadata": {},
   "outputs": [
    {
     "data": {
      "text/plain": [
       "'Nierozpraszalni'"
      ]
     },
     "execution_count": 25,
     "metadata": {},
     "output_type": "execute_result"
    }
   ],
   "source": [
    "item_retrieved['Book']['rich_text'][0]['text']['content']"
   ]
  },
  {
   "cell_type": "code",
   "execution_count": 26,
   "metadata": {},
   "outputs": [
    {
     "data": {
      "text/plain": [
       "'Nir Eyal'"
      ]
     },
     "execution_count": 26,
     "metadata": {},
     "output_type": "execute_result"
    }
   ],
   "source": [
    "item_retrieved['Author']['rich_text'][0]['text']['content']"
   ]
  },
  {
   "cell_type": "code",
   "execution_count": 29,
   "metadata": {},
   "outputs": [
    {
     "data": {
      "text/plain": [
       "'dlaczego nie powinieneś mówić, że coś Cię rozprasza, dopóki nie określisz, od czego odciąga to Twoją uwagę'"
      ]
     },
     "execution_count": 29,
     "metadata": {},
     "output_type": "execute_result"
    }
   ],
   "source": [
    "item_retrieved['Highlight']['rich_text'][0]['text']['content']"
   ]
  },
  {
   "cell_type": "code",
   "execution_count": 31,
   "metadata": {},
   "outputs": [
    {
     "data": {
      "text/plain": [
       "16"
      ]
     },
     "execution_count": 31,
     "metadata": {},
     "output_type": "execute_result"
    }
   ],
   "source": [
    "item_retrieved['Location']['number']"
   ]
  },
  {
   "cell_type": "code",
   "execution_count": 46,
   "metadata": {},
   "outputs": [
    {
     "data": {
      "text/plain": [
       "'2023-02-01T23:36:00.000+00:00'"
      ]
     },
     "execution_count": 46,
     "metadata": {},
     "output_type": "execute_result"
    }
   ],
   "source": [
    "date_retrieved = item_retrieved['Date']['date']['start']\n",
    "date_retrieved"
   ]
  },
  {
   "cell_type": "code",
   "execution_count": 33,
   "metadata": {},
   "outputs": [
    {
     "data": {
      "text/plain": [
       "'deconcetrare from what else'"
      ]
     },
     "execution_count": 33,
     "metadata": {},
     "output_type": "execute_result"
    }
   ],
   "source": [
    "item_retrieved['Note']['title'][0]['text']['content']"
   ]
  },
  {
   "cell_type": "code",
   "execution_count": 52,
   "metadata": {},
   "outputs": [
    {
     "data": {
      "text/plain": [
       "'2023-02-01T23:36:00.000+00:00'"
      ]
     },
     "execution_count": 52,
     "metadata": {},
     "output_type": "execute_result"
    }
   ],
   "source": [
    "date_retrieved"
   ]
  },
  {
   "cell_type": "code",
   "execution_count": 50,
   "metadata": {},
   "outputs": [
    {
     "ename": "ValueError",
     "evalue": "Invalid format specifier",
     "output_type": "error",
     "traceback": [
      "\u001b[1;31m---------------------------------------------------------------------------\u001b[0m",
      "\u001b[1;31mValueError\u001b[0m                                Traceback (most recent call last)",
      "Cell \u001b[1;32mIn[50], line 1\u001b[0m\n\u001b[1;32m----> 1\u001b[0m \u001b[39mf\u001b[39m\u001b[39m\"\u001b[39m\u001b[39m{\u001b[39;00mdate_retrieved\u001b[39m:\u001b[39;00m\u001b[39m%Y-%m-%d\u001b[39m\u001b[39m}\u001b[39;00m\u001b[39m\"\u001b[39m\n",
      "\u001b[1;31mValueError\u001b[0m: Invalid format specifier"
     ]
    }
   ],
   "source": [
    "date"
   ]
  },
  {
   "cell_type": "code",
   "execution_count": 55,
   "metadata": {},
   "outputs": [
    {
     "data": {
      "text/plain": [
       "'2023-02-01 23:36'"
      ]
     },
     "execution_count": 55,
     "metadata": {},
     "output_type": "execute_result"
    }
   ],
   "source": [
    "from datetime import datetime\n",
    "\n",
    "date_string = '2023-02-01T23:36:00.000+00:00'\n",
    "date_format = '%Y-%m-%dT%H:%M:%S.%f%z'\n",
    "\n",
    "datetime_obj = datetime.strptime(date_string, date_format)\n",
    "\n",
    "formatted_date = datetime_obj.strftime('%Y-%m-%d %H:%M')\n",
    "formatted_date"
   ]
  },
  {
   "cell_type": "code",
   "execution_count": null,
   "metadata": {},
   "outputs": [],
   "source": []
  }
 ],
 "metadata": {
  "kernelspec": {
   "display_name": "venv",
   "language": "python",
   "name": "python3"
  },
  "language_info": {
   "codemirror_mode": {
    "name": "ipython",
    "version": 3
   },
   "file_extension": ".py",
   "mimetype": "text/x-python",
   "name": "python",
   "nbconvert_exporter": "python",
   "pygments_lexer": "ipython3",
   "version": "3.8.6"
  },
  "orig_nbformat": 4,
  "vscode": {
   "interpreter": {
    "hash": "39f138e83c3e1d1c3a55ad95e98e78c58802ff80342b5d3b576b2eadd4554cc5"
   }
  }
 },
 "nbformat": 4,
 "nbformat_minor": 2
}
